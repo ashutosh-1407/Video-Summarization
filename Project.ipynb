{
 "cells": [
  {
   "cell_type": "code",
   "execution_count": 1,
   "id": "3c604395",
   "metadata": {},
   "outputs": [],
   "source": [
    "import pandas as pd\n",
    "import numpy as np"
   ]
  },
  {
   "cell_type": "code",
   "execution_count": 2,
   "id": "35e6bdc4",
   "metadata": {},
   "outputs": [],
   "source": [
    "# file = open('data/train.bin', 'rb')\n",
    "# byte = file.read(1)\n",
    "# while byte: \n",
    "#     print(byte)\n",
    "#     byte = file.read(1)\n",
    "# file.close()\n",
    "\n",
    "# with open('data/test.bin', mode='rb') as file: # b is important -> binary\n",
    "#     fileContent = file.read()"
   ]
  },
  {
   "cell_type": "code",
   "execution_count": 3,
   "id": "44c346a1",
   "metadata": {},
   "outputs": [],
   "source": [
    "# dt = np.dtype([('article', np.unicode_), ('highlights', np.unicode_)])\n",
    "# data = np.fromfile('data/test.bin', dtype=dt)\n",
    "# df = pd.DataFrame(data)"
   ]
  },
  {
   "cell_type": "markdown",
   "id": "9d6515f0",
   "metadata": {},
   "source": [
    "### Reading the debateall dataset"
   ]
  },
  {
   "cell_type": "code",
   "execution_count": 4,
   "id": "0c726aeb",
   "metadata": {},
   "outputs": [
    {
     "data": {
      "text/html": [
       "<div>\n",
       "<style scoped>\n",
       "    .dataframe tbody tr th:only-of-type {\n",
       "        vertical-align: middle;\n",
       "    }\n",
       "\n",
       "    .dataframe tbody tr th {\n",
       "        vertical-align: top;\n",
       "    }\n",
       "\n",
       "    .dataframe thead th {\n",
       "        text-align: right;\n",
       "    }\n",
       "</style>\n",
       "<table border=\"1\" class=\"dataframe\">\n",
       "  <thead>\n",
       "    <tr style=\"text-align: right;\">\n",
       "      <th></th>\n",
       "      <th>Full-Document</th>\n",
       "      <th>Citation</th>\n",
       "      <th>Extract</th>\n",
       "      <th>Abstract</th>\n",
       "      <th>#CharsDocument</th>\n",
       "      <th>#CharsAbstract</th>\n",
       "      <th>#CharsExtract</th>\n",
       "      <th>#WordsDocument</th>\n",
       "      <th>#WordsAbstract</th>\n",
       "      <th>#WordsExtract</th>\n",
       "      <th>AbsCompressionRatio</th>\n",
       "      <th>ExtCompressionRatio</th>\n",
       "      <th>OriginalDebateFileName</th>\n",
       "    </tr>\n",
       "  </thead>\n",
       "  <tbody>\n",
       "    <tr>\n",
       "      <th>0</th>\n",
       "      <td>German Chancellor Angela Merkel demanded on Th...</td>\n",
       "      <td>O’Donnell and Baker ’13 [JOHN O'DONNELL AND LU...</td>\n",
       "      <td>Merkel demanded the U S strike a \"no-spying\" a...</td>\n",
       "      <td>Text: The United States should offer to accede...</td>\n",
       "      <td>3155</td>\n",
       "      <td>132</td>\n",
       "      <td>1416</td>\n",
       "      <td>506</td>\n",
       "      <td>22</td>\n",
       "      <td>231</td>\n",
       "      <td>0.043478</td>\n",
       "      <td>0.456522</td>\n",
       "      <td>Bulk Data Collection Negative - JDI 2015.html5</td>\n",
       "    </tr>\n",
       "    <tr>\n",
       "      <th>1</th>\n",
       "      <td>Judge Leon last week questioned the effectiven...</td>\n",
       "      <td>Cohen ’13 [ANDREW COHEN, DEC 27, 2013, The Atl...</td>\n",
       "      <td>Pauley asserted The effectiveness of bulk tele...</td>\n",
       "      <td>Unique link- judicial deference specifically o...</td>\n",
       "      <td>367</td>\n",
       "      <td>132</td>\n",
       "      <td>100</td>\n",
       "      <td>52</td>\n",
       "      <td>22</td>\n",
       "      <td>13</td>\n",
       "      <td>0.423077</td>\n",
       "      <td>0.250000</td>\n",
       "      <td>Bulk Data Collection Negative - JDI 2015.html5</td>\n",
       "    </tr>\n",
       "    <tr>\n",
       "      <th>2</th>\n",
       "      <td>New York Times July 25th 2013\\n(POLITICS Rober...</td>\n",
       "      <td>Rosenthal 6/12/15\\n(“Government's Secret Surve...</td>\n",
       "      <td>The recent leaks about government spying progr...</td>\n",
       "      <td>Issues of national surveillance are a key issu...</td>\n",
       "      <td>10386</td>\n",
       "      <td>61</td>\n",
       "      <td>2223</td>\n",
       "      <td>1639</td>\n",
       "      <td>10</td>\n",
       "      <td>355</td>\n",
       "      <td>0.006101</td>\n",
       "      <td>0.216595</td>\n",
       "      <td>Bulk Data Collection Negative - JDI 2015.html5</td>\n",
       "    </tr>\n",
       "    <tr>\n",
       "      <th>3</th>\n",
       "      <td>Posner 2007\\n(“Terror in the Balance: Security...</td>\n",
       "      <td>New York Times July 25th 2013\\n(POLITICS Rober...</td>\n",
       "      <td>When national emergencies strike, the executiv...</td>\n",
       "      <td>Chief Justice Roberts ensures issues of nation...</td>\n",
       "      <td>1598</td>\n",
       "      <td>99</td>\n",
       "      <td>669</td>\n",
       "      <td>226</td>\n",
       "      <td>14</td>\n",
       "      <td>98</td>\n",
       "      <td>0.061947</td>\n",
       "      <td>0.433628</td>\n",
       "      <td>Bulk Data Collection Negative - JDI 2015.html5</td>\n",
       "    </tr>\n",
       "    <tr>\n",
       "      <th>4</th>\n",
       "      <td>Goitien April 17th 2015\\n(Appointing Democrati...</td>\n",
       "      <td>Posner 2007\\n(“Terror in the Balance: Security...</td>\n",
       "      <td>Chief Justice Roberts recently named two new j...</td>\n",
       "      <td>Courts empirically defer instances of national...</td>\n",
       "      <td>7696</td>\n",
       "      <td>56</td>\n",
       "      <td>1482</td>\n",
       "      <td>1201</td>\n",
       "      <td>7</td>\n",
       "      <td>238</td>\n",
       "      <td>0.005828</td>\n",
       "      <td>0.198168</td>\n",
       "      <td>Bulk Data Collection Negative - JDI 2015.html5</td>\n",
       "    </tr>\n",
       "  </tbody>\n",
       "</table>\n",
       "</div>"
      ],
      "text/plain": [
       "                                       Full-Document  \\\n",
       "0  German Chancellor Angela Merkel demanded on Th...   \n",
       "1  Judge Leon last week questioned the effectiven...   \n",
       "2  New York Times July 25th 2013\\n(POLITICS Rober...   \n",
       "3  Posner 2007\\n(“Terror in the Balance: Security...   \n",
       "4  Goitien April 17th 2015\\n(Appointing Democrati...   \n",
       "\n",
       "                                            Citation  \\\n",
       "0  O’Donnell and Baker ’13 [JOHN O'DONNELL AND LU...   \n",
       "1  Cohen ’13 [ANDREW COHEN, DEC 27, 2013, The Atl...   \n",
       "2  Rosenthal 6/12/15\\n(“Government's Secret Surve...   \n",
       "3  New York Times July 25th 2013\\n(POLITICS Rober...   \n",
       "4  Posner 2007\\n(“Terror in the Balance: Security...   \n",
       "\n",
       "                                             Extract  \\\n",
       "0  Merkel demanded the U S strike a \"no-spying\" a...   \n",
       "1  Pauley asserted The effectiveness of bulk tele...   \n",
       "2  The recent leaks about government spying progr...   \n",
       "3  When national emergencies strike, the executiv...   \n",
       "4  Chief Justice Roberts recently named two new j...   \n",
       "\n",
       "                                            Abstract  #CharsDocument  \\\n",
       "0  Text: The United States should offer to accede...            3155   \n",
       "1  Unique link- judicial deference specifically o...             367   \n",
       "2  Issues of national surveillance are a key issu...           10386   \n",
       "3  Chief Justice Roberts ensures issues of nation...            1598   \n",
       "4  Courts empirically defer instances of national...            7696   \n",
       "\n",
       "   #CharsAbstract  #CharsExtract  #WordsDocument  #WordsAbstract  \\\n",
       "0             132           1416             506              22   \n",
       "1             132            100              52              22   \n",
       "2              61           2223            1639              10   \n",
       "3              99            669             226              14   \n",
       "4              56           1482            1201               7   \n",
       "\n",
       "   #WordsExtract  AbsCompressionRatio  ExtCompressionRatio  \\\n",
       "0            231             0.043478             0.456522   \n",
       "1             13             0.423077             0.250000   \n",
       "2            355             0.006101             0.216595   \n",
       "3             98             0.061947             0.433628   \n",
       "4            238             0.005828             0.198168   \n",
       "\n",
       "                           OriginalDebateFileName  \n",
       "0  Bulk Data Collection Negative - JDI 2015.html5  \n",
       "1  Bulk Data Collection Negative - JDI 2015.html5  \n",
       "2  Bulk Data Collection Negative - JDI 2015.html5  \n",
       "3  Bulk Data Collection Negative - JDI 2015.html5  \n",
       "4  Bulk Data Collection Negative - JDI 2015.html5  "
      ]
     },
     "execution_count": 4,
     "metadata": {},
     "output_type": "execute_result"
    }
   ],
   "source": [
    "data = pd.read_csv('data/debateall.csv')\n",
    "data.head()"
   ]
  },
  {
   "cell_type": "code",
   "execution_count": 5,
   "id": "b3f7fdde",
   "metadata": {},
   "outputs": [
    {
     "data": {
      "text/plain": [
       "'German Chancellor Angela Merkel demanded on Thursday that the United States strike a \"no-spying\" agreement with Berlin and Paris by the end of the year, saying alleged espionage against two of Washington\\'s closest EU allies had to be stopped.¶ Speaking after talks with EU leaders that were dominated by allegations that the U.S. National Security Agency had accessed tens of thousands of French phone records and monitored Merkel\\'s private mobile phone, the chancellor said she wanted action from President Barack Obama, not just apologetic words.¶ Germany and France would seek a \"mutual understanding\" with the United States on cooperation between their intelligence agencies, and other EU member states could eventually take part.¶ \"That means a framework for cooperation between the relevant (intelligence) services.Germany and France have taken the initiative and other member states will join,\" she said.¶ In a statement issued after the first day of the summit, the EU\\'s 28 leaders said they supported the Franco-German plan.¶ Merkel first raised the possibility of a \"no-spying\" agreement with Obama during a visit to Berlin in June this year, but nothing came of it. The latest revelations, part of the vast leaks made by former U.S. data analyst Edward Snowden, would appear to have renewed her determination for a pact.¶ The United States has a \"no-spying\" deal with Britain, Australia, New Zealand and Canada, an alliance known as \"Five Eyes\" that was struck in the aftermath of World War Two.¶ But there has traditionally been a reluctance to make similar arrangements with other allies, despite the close relations that the United States and Germany now enjoy.¶ Merkel said an accord with Washington was long overdue, given the shared experiences the countries face.¶ \"We are in Afghanistan together. Our soldiers experience life threatening situations. They sometimes die in the same battles,\" she said.¶ \"The friendship and partnership between the European member states, includingGermany, and the United States is not a one-way street. We depend on it. But there are good reasons that the United States also needs friends in the world.\"¶ COLLECTIVE ANGER¶ As EU leaders arrived for the two-day summit there was near-universal condemnation of the alleged activities by the NSA, particularly the monitoring of Merkel\\'s mobile phone, a sensitive issue for a woman who grew up in East Germany, living under the Stasi police force and its feared eavesdropping.¶ Some senior German officials, and the German president of the European Parliament, have called for talks between the EU and United States on a free-trade agreement, which began in July, to be suspended because of the spying allegations.¶ Merkel, whose country is one of the world\\'s leading exporters and stands to gain from any trade deal with Washington, said that was not the right path to take, saying the best way forward was to rebuild trust.¶ The series of Snowden-based leaks over the past three months have left Washington at odds with a host of important allies, from Brazil to Saudi Arabia, and there are few signs that the revelations are going to dry up anytime soon.¶'"
      ]
     },
     "execution_count": 5,
     "metadata": {},
     "output_type": "execute_result"
    }
   ],
   "source": [
    "data.loc[0, 'Full-Document']"
   ]
  },
  {
   "cell_type": "code",
   "execution_count": 6,
   "id": "604ed28b",
   "metadata": {},
   "outputs": [
    {
     "data": {
      "text/plain": [
       "'Merkel demanded the U S strike a \"no-spying\" agreement with Berlin and Paris saying alleged espionage against EU allies had to be stopped the chancellor said she wanted action from Obama Germany and France would seek a \"mutual understanding\" with the United States on cooperation between their intelligence agencies, and other EU member states could eventually take part the EU\\'s 28 leaders said they supported the Franco-German plan Merkel raised the with Obama but nothing came of it The United States has a \"no-spying\" deal with Britain, Australia, New Zealand and Canada, an alliance known as \"Five Eyes\" there has traditionally been a reluctance to make similar arrangements with other allies Merkel said an accord with Washington was long overdue The friendship and partnership between the European member states, includingGermany, and the United States is not a one-way street. We depend on it the United States also needs friends in the w As EU leaders arrived for the two-day summit there was near-universal condemnation of the alleged activities by the NSA senior officials have called for talks between the EU and United States on a free-trade agreement to be suspended because of the spying allegations The series of Snowden-based leak have left Washington at odds with a host of important allies, from Brazil to Saudi Arabia, and there are few signs that the revelations are going to dry up anytime soon'"
      ]
     },
     "execution_count": 6,
     "metadata": {},
     "output_type": "execute_result"
    }
   ],
   "source": [
    "data.loc[0, 'Extract']"
   ]
  },
  {
   "cell_type": "markdown",
   "id": "9d8a4e86",
   "metadata": {},
   "source": [
    "### Learning how to generate embeddings using BERT"
   ]
  },
  {
   "cell_type": "code",
   "execution_count": 7,
   "id": "26e8a66c",
   "metadata": {},
   "outputs": [],
   "source": [
    "# !pip install simpletransformers"
   ]
  },
  {
   "cell_type": "code",
   "execution_count": 8,
   "id": "7e08b1a8",
   "metadata": {},
   "outputs": [],
   "source": [
    "from simpletransformers.language_representation import RepresentationModel"
   ]
  },
  {
   "cell_type": "code",
   "execution_count": 18,
   "id": "3cd5d292",
   "metadata": {},
   "outputs": [
    {
     "data": {
      "text/plain": [
       "0    German Chancellor Angela Merkel demanded on Th...\n",
       "1    Judge Leon last week questioned the effectiven...\n",
       "2    New York Times July 25th 2013\\n(POLITICS Rober...\n",
       "3    Posner 2007\\n(“Terror in the Balance: Security...\n",
       "4    Goitien April 17th 2015\\n(Appointing Democrati...\n",
       "Name: Full-Document, dtype: object"
      ]
     },
     "execution_count": 18,
     "metadata": {},
     "output_type": "execute_result"
    }
   ],
   "source": [
    "sentences = data['Full-Document'][: 1000]\n",
    "sentences.head()"
   ]
  },
  {
   "cell_type": "code",
   "execution_count": 72,
   "id": "55fb5fc0",
   "metadata": {},
   "outputs": [
    {
     "data": {
      "text/plain": [
       "0    Merkel demanded the U S strike a \"no-spying\" a...\n",
       "1    Pauley asserted The effectiveness of bulk tele...\n",
       "2    The recent leaks about government spying progr...\n",
       "3    When national emergencies strike, the executiv...\n",
       "4    Chief Justice Roberts recently named two new j...\n",
       "Name: Extract, dtype: object"
      ]
     },
     "execution_count": 72,
     "metadata": {},
     "output_type": "execute_result"
    }
   ],
   "source": [
    "summaries = data['Extract'][: 1000]\n",
    "summaries.head()"
   ]
  },
  {
   "cell_type": "markdown",
   "id": "40b7dd7f",
   "metadata": {},
   "source": [
    "### Defining a model to use the bert embeddings and set use_cuda = True to use GPU"
   ]
  },
  {
   "cell_type": "code",
   "execution_count": 19,
   "id": "86af05c5",
   "metadata": {},
   "outputs": [
    {
     "name": "stderr",
     "output_type": "stream",
     "text": [
      "Some weights of the model checkpoint at bert-base-uncased were not used when initializing BertForTextRepresentation: ['cls.predictions.transform.dense.bias', 'cls.predictions.transform.dense.weight', 'cls.seq_relationship.weight', 'cls.seq_relationship.bias', 'cls.predictions.bias', 'cls.predictions.decoder.weight', 'cls.predictions.transform.LayerNorm.bias', 'cls.predictions.transform.LayerNorm.weight']\n",
      "- This IS expected if you are initializing BertForTextRepresentation from the checkpoint of a model trained on another task or with another architecture (e.g. initializing a BertForSequenceClassification model from a BertForPreTraining model).\n",
      "- This IS NOT expected if you are initializing BertForTextRepresentation from the checkpoint of a model that you expect to be exactly identical (initializing a BertForSequenceClassification model from a BertForSequenceClassification model).\n"
     ]
    }
   ],
   "source": [
    "# sentences = ['Machine Learning and Deep Learning are part of AI', 'Data Science will excel in future']\n",
    "model = RepresentationModel(\n",
    "        model_type='bert',\n",
    "        model_name='bert-base-uncased',\n",
    "        use_cuda=True\n",
    ")"
   ]
  },
  {
   "cell_type": "markdown",
   "id": "973c7859",
   "metadata": {},
   "source": [
    "### Creating BERT embeddings for our dataset"
   ]
  },
  {
   "cell_type": "code",
   "execution_count": 26,
   "id": "6868ccdc",
   "metadata": {},
   "outputs": [],
   "source": [
    "word_vectors = model.encode_sentences(sentences, combine_strategy='mean')"
   ]
  },
  {
   "cell_type": "code",
   "execution_count": 33,
   "id": "41ef5fe5",
   "metadata": {},
   "outputs": [
    {
     "data": {
      "text/plain": [
       "array([[-0.32104653,  0.09997991,  0.04376634, ..., -0.10236427,\n",
       "         0.03420955, -0.06911948],\n",
       "       [-0.02158269, -0.10440352,  0.02366636, ..., -0.01730064,\n",
       "         0.02124303, -0.02405714],\n",
       "       [-0.00200591,  0.07882713,  0.11912461, ..., -0.13744695,\n",
       "         0.04842247, -0.02859216],\n",
       "       ...,\n",
       "       [-0.26859814,  0.28943413, -0.09297414, ..., -0.19208944,\n",
       "         0.01625864, -0.0901525 ],\n",
       "       [-0.04423646,  0.07509145,  0.01463317, ..., -0.32493857,\n",
       "        -0.06378958,  0.1337055 ],\n",
       "       [ 0.05446831,  0.27189332,  0.1912251 , ..., -0.21712351,\n",
       "         0.11477803,  0.0298214 ]], dtype=float32)"
      ]
     },
     "execution_count": 33,
     "metadata": {},
     "output_type": "execute_result"
    }
   ],
   "source": [
    "word_vectors"
   ]
  },
  {
   "cell_type": "markdown",
   "id": "6aeff440",
   "metadata": {},
   "source": [
    "### Running K-Means clustering on the embeddings and finding the optimal K"
   ]
  },
  {
   "cell_type": "code",
   "execution_count": 38,
   "id": "cf80ac20",
   "metadata": {},
   "outputs": [
    {
     "name": "stdout",
     "output_type": "stream",
     "text": [
      "Running for k = 1 cluster\n"
     ]
    },
    {
     "name": "stderr",
     "output_type": "stream",
     "text": [
      "C:\\Users\\ashut\\anaconda3\\envs\\py\\lib\\site-packages\\sklearn\\cluster\\_kmeans.py:882: UserWarning: KMeans is known to have a memory leak on Windows with MKL, when there are less chunks than available threads. You can avoid it by setting the environment variable OMP_NUM_THREADS=4.\n",
      "  f\"KMeans is known to have a memory leak on Windows \"\n"
     ]
    },
    {
     "name": "stdout",
     "output_type": "stream",
     "text": [
      "Running for k = 2 cluster\n",
      "Running for k = 3 cluster\n",
      "Running for k = 4 cluster\n",
      "Running for k = 5 cluster\n",
      "Running for k = 6 cluster\n",
      "Running for k = 7 cluster\n",
      "Running for k = 8 cluster\n",
      "Running for k = 9 cluster\n",
      "Running for k = 10 cluster\n",
      "Running for k = 11 cluster\n",
      "Running for k = 12 cluster\n",
      "Running for k = 13 cluster\n",
      "Running for k = 14 cluster\n",
      "Running for k = 15 cluster\n",
      "Running for k = 16 cluster\n",
      "Running for k = 17 cluster\n",
      "Running for k = 18 cluster\n",
      "Running for k = 19 cluster\n",
      "Running for k = 20 cluster\n",
      "Running for k = 21 cluster\n",
      "Running for k = 22 cluster\n",
      "Running for k = 23 cluster\n",
      "Running for k = 24 cluster\n",
      "Running for k = 25 cluster\n",
      "Running for k = 26 cluster\n",
      "Running for k = 27 cluster\n",
      "Running for k = 28 cluster\n",
      "Running for k = 29 cluster\n",
      "Running for k = 30 cluster\n",
      "Running for k = 31 cluster\n",
      "Running for k = 32 cluster\n",
      "Running for k = 33 cluster\n",
      "Running for k = 34 cluster\n",
      "Running for k = 35 cluster\n",
      "Running for k = 36 cluster\n",
      "Running for k = 37 cluster\n",
      "Running for k = 38 cluster\n",
      "Running for k = 39 cluster\n",
      "Running for k = 40 cluster\n",
      "Running for k = 41 cluster\n",
      "Running for k = 42 cluster\n",
      "Running for k = 43 cluster\n",
      "Running for k = 44 cluster\n",
      "Running for k = 45 cluster\n",
      "Running for k = 46 cluster\n",
      "Running for k = 47 cluster\n",
      "Running for k = 48 cluster\n",
      "Running for k = 49 cluster\n",
      "Running for k = 50 cluster\n",
      "Running for k = 51 cluster\n",
      "Running for k = 52 cluster\n",
      "Running for k = 53 cluster\n",
      "Running for k = 54 cluster\n",
      "Running for k = 55 cluster\n",
      "Running for k = 56 cluster\n",
      "Running for k = 57 cluster\n",
      "Running for k = 58 cluster\n",
      "Running for k = 59 cluster\n",
      "Running for k = 60 cluster\n",
      "Running for k = 61 cluster\n",
      "Running for k = 62 cluster\n",
      "Running for k = 63 cluster\n",
      "Running for k = 64 cluster\n",
      "Running for k = 65 cluster\n",
      "Running for k = 66 cluster\n",
      "Running for k = 67 cluster\n",
      "Running for k = 68 cluster\n",
      "Running for k = 69 cluster\n",
      "Running for k = 70 cluster\n",
      "Running for k = 71 cluster\n",
      "Running for k = 72 cluster\n",
      "Running for k = 73 cluster\n",
      "Running for k = 74 cluster\n",
      "Running for k = 75 cluster\n",
      "Running for k = 76 cluster\n",
      "Running for k = 77 cluster\n",
      "Running for k = 78 cluster\n",
      "Running for k = 79 cluster\n",
      "Running for k = 80 cluster\n",
      "Running for k = 81 cluster\n",
      "Running for k = 82 cluster\n",
      "Running for k = 83 cluster\n",
      "Running for k = 84 cluster\n",
      "Running for k = 85 cluster\n",
      "Running for k = 86 cluster\n",
      "Running for k = 87 cluster\n",
      "Running for k = 88 cluster\n",
      "Running for k = 89 cluster\n",
      "Running for k = 90 cluster\n",
      "Running for k = 91 cluster\n",
      "Running for k = 92 cluster\n",
      "Running for k = 93 cluster\n",
      "Running for k = 94 cluster\n",
      "Running for k = 95 cluster\n",
      "Running for k = 96 cluster\n",
      "Running for k = 97 cluster\n",
      "Running for k = 98 cluster\n",
      "Running for k = 99 cluster\n",
      "Running for k = 100 cluster\n"
     ]
    }
   ],
   "source": [
    "from sklearn.cluster import KMeans\n",
    "from scipy.spatial.distance import cdist\n",
    "\n",
    "distortions = []\n",
    "inertias = []\n",
    "mapping1 = {}\n",
    "mapping2 = {}\n",
    "for i in range(1, 101):\n",
    "    print(f'\\rRunning for k = {i} cluster', sep='')\n",
    "    kMeans = KMeans(n_clusters=i, random_state=42).fit(word_vectors)\n",
    "    distortions.append(sum(np.min(cdist(word_vectors, kMeans.cluster_centers_,\n",
    "                                        'euclidean'), axis=1)) / word_vectors.shape[0])\n",
    "    inertias.append(kMeans.inertia_)\n",
    " \n",
    "    mapping1[i] = sum(np.min(cdist(word_vectors, kMeans.cluster_centers_,\n",
    "                                   'euclidean'), axis=1)) / word_vectors.shape[0]\n",
    "    mapping2[i] = kMeans.inertia_"
   ]
  },
  {
   "cell_type": "code",
   "execution_count": 39,
   "id": "3193bfbc",
   "metadata": {},
   "outputs": [
    {
     "name": "stdout",
     "output_type": "stream",
     "text": [
      "1 : 3.6570092134246925\n",
      "2 : 3.459906687787475\n",
      "3 : 3.4102918187867197\n",
      "4 : 3.332789104884604\n",
      "5 : 3.286157217508886\n",
      "6 : 3.247205859804996\n",
      "7 : 3.2214122136523016\n",
      "8 : 3.196712911866378\n",
      "9 : 3.1742071010481467\n",
      "10 : 3.1528242857508584\n",
      "11 : 3.13409939097311\n",
      "12 : 3.1133796535911173\n",
      "13 : 3.096785313801534\n",
      "14 : 3.0802580628411054\n",
      "15 : 3.0604947274833463\n",
      "16 : 3.0553298238488606\n",
      "17 : 3.0428161465673513\n",
      "18 : 3.030522122099931\n",
      "19 : 3.0217885733608214\n",
      "20 : 3.016082845934434\n",
      "21 : 3.0066811024839506\n",
      "22 : 3.0012597593741246\n",
      "23 : 2.9862032247411308\n",
      "24 : 2.981111650588591\n",
      "25 : 2.9806670674727753\n",
      "26 : 2.971396830889518\n",
      "27 : 2.9646291326463854\n",
      "28 : 2.952725127970656\n",
      "29 : 2.9470008019970426\n",
      "30 : 2.942999875705094\n",
      "31 : 2.9359836072329335\n",
      "32 : 2.9313626411117215\n",
      "33 : 2.9256194393101977\n",
      "34 : 2.9186749028936183\n",
      "35 : 2.9121242026120404\n",
      "36 : 2.903320775221513\n",
      "37 : 2.900125380466896\n",
      "38 : 2.888238750373877\n",
      "39 : 2.886579524264304\n",
      "40 : 2.8827074007260722\n",
      "41 : 2.8807329318007375\n",
      "42 : 2.871822238572835\n",
      "43 : 2.871749409036272\n",
      "44 : 2.8645804318654635\n",
      "45 : 2.8570776085832414\n",
      "46 : 2.8564100159983\n",
      "47 : 2.855094394843856\n",
      "48 : 2.848150197277792\n",
      "49 : 2.8399731202131075\n",
      "50 : 2.841854868940989\n",
      "51 : 2.832222860221105\n",
      "52 : 2.8317836135289456\n",
      "53 : 2.8217610113965006\n",
      "54 : 2.8269516027147477\n",
      "55 : 2.8176149362244076\n",
      "56 : 2.8111447293665743\n",
      "57 : 2.81024226038621\n",
      "58 : 2.804319688604179\n",
      "59 : 2.7977737582658104\n",
      "60 : 2.798155489271441\n",
      "61 : 2.7968722436226687\n",
      "62 : 2.7889122810379297\n",
      "63 : 2.784639450876628\n",
      "64 : 2.780430341222075\n",
      "65 : 2.774806601258599\n",
      "66 : 2.7731521364303457\n",
      "67 : 2.7681985065622565\n",
      "68 : 2.7672510761492863\n",
      "69 : 2.758738971740592\n",
      "70 : 2.7540902730345644\n",
      "71 : 2.746461591763948\n",
      "72 : 2.743851098827742\n",
      "73 : 2.73755964328001\n",
      "74 : 2.7387800660053427\n",
      "75 : 2.7338056518790843\n",
      "76 : 2.7277529829220146\n",
      "77 : 2.7267938374024414\n",
      "78 : 2.727671346892843\n",
      "79 : 2.722492609601421\n",
      "80 : 2.7228067682587986\n",
      "81 : 2.7230929987919072\n",
      "82 : 2.7127015048302794\n",
      "83 : 2.710110510826222\n",
      "84 : 2.705694717995135\n",
      "85 : 2.7006547129906617\n",
      "86 : 2.6943591440601518\n",
      "87 : 2.692645516163061\n",
      "88 : 2.693087335266058\n",
      "89 : 2.6922734573468627\n",
      "90 : 2.6903461755743576\n",
      "91 : 2.6801173115963013\n",
      "92 : 2.674371317904177\n",
      "93 : 2.6718438432887606\n",
      "94 : 2.669664283917333\n",
      "95 : 2.6734929155362064\n",
      "96 : 2.668099521946211\n",
      "97 : 2.6633041635516963\n",
      "98 : 2.6576021417293285\n",
      "99 : 2.6511244123152586\n",
      "100 : 2.6525009204528383\n"
     ]
    }
   ],
   "source": [
    "for key, val in mapping1.items():\n",
    "    print(f'{key} : {val}')"
   ]
  },
  {
   "cell_type": "markdown",
   "id": "e35d1461",
   "metadata": {},
   "source": [
    "### Getting the cluster centers and the predicted labels"
   ]
  },
  {
   "cell_type": "code",
   "execution_count": 44,
   "id": "ba11949e",
   "metadata": {},
   "outputs": [],
   "source": [
    "preds = kMeans.labels_\n",
    "centers = kMeans.cluster_centers_"
   ]
  },
  {
   "cell_type": "markdown",
   "id": "4128519c",
   "metadata": {},
   "source": [
    "### Creating a hashMap for the points in each of the cluster to find the closest point"
   ]
  },
  {
   "cell_type": "code",
   "execution_count": 60,
   "id": "6d1ccf3b",
   "metadata": {},
   "outputs": [],
   "source": [
    "from collections import defaultdict\n",
    "\n",
    "clusters = defaultdict(list)\n",
    "for i in range(1000):\n",
    "    if preds[i] <= 99:\n",
    "        clusters[preds[i]].append([centers[preds[i]], i, word_vectors[i]])"
   ]
  },
  {
   "cell_type": "markdown",
   "id": "8997def0",
   "metadata": {},
   "source": [
    "### Finding the closest point in each of selected cluster"
   ]
  },
  {
   "cell_type": "code",
   "execution_count": 68,
   "id": "32a5751d",
   "metadata": {},
   "outputs": [],
   "source": [
    "cluster_repr = {}\n",
    "for center, points in clusters.items():\n",
    "    dists = []\n",
    "    for i, point in enumerate(points):\n",
    "        dists.append([np.linalg.norm(center - point[2]), i, point[2]])\n",
    "    dists.sort(key=lambda x: x[0])\n",
    "    cluster_repr[center] = [dists[0][1], dists[0][2]]"
   ]
  },
  {
   "cell_type": "markdown",
   "id": "5466b3f1",
   "metadata": {},
   "source": [
    "### Getting the summary"
   ]
  },
  {
   "cell_type": "code",
   "execution_count": 77,
   "id": "d4eb929d",
   "metadata": {},
   "outputs": [],
   "source": [
    "summary = []\n",
    "for cluster, point in cluster_repr.items():\n",
    "    summary.append(summaries[point[0]])"
   ]
  },
  {
   "cell_type": "code",
   "execution_count": 78,
   "id": "ab083d68",
   "metadata": {},
   "outputs": [
    {
     "data": {
      "text/plain": [
       "['Despite periodic attempts to assert itself, the legislative branch over time has settled into a secondary role to the executive branch on questions of national security. The dominance of the executive branch in the nuclear age – when presidents claimed the need to act on a moment’s notice – continued into the age of terrorism with the claimed need for vast new spy powers handed over by Congress with the Patriot Act and renewed and extended ever since. Bowing to the president in the interest of protecting the nation has been commonplace for a century, ever since the U.S. became a major international player and had to react quickly to crises. “Presidents assumed power and got away with it,” “It’s the perfect example of Congress handing over power to the executive branch and failing to keep up with it The war powers act is routinely violated these days, “In recent years Congress has tended to defer to the executive branch when it comes to national security-related issues.”',\n",
       " 'As the country attacked on 9/11, the United States sprang into action¶ immediately with a twinned strategy of aggressive military action and new understandings of law From launching wars abroad89 to developing novel¶ strategies for interrogation and widespread¶ surveillance programs at home the Bush Administration , took a generous view of its own powers in wartime Congress passed the USA PATRIOT Act with¶ nearly unprecedented speed increasing domestic¶ surveillance capacities of the U.S. government and adding a toxic mix of small¶ changes in U.S. law that allowed the government to operate secretly and to¶ commandeer private resources in the anti-terrorism campaign',\n",
       " 'The recent leaks about government spying programs have focused attention on the Foreign Intelligence Surveillance Court and its role in deciding how intrusive the government can be in the name of national security In making assignments to the court, Chief Justice Roberts, more than his predecessors, has chosen judges with conservative and executive branch backgrounds that critics say make the court more likely to defer to government arguments that domestic spying programs are necessary Ten of the court’s 11 judges were appointed to the bench by Republican presidents; six once worked for the federal government Since the chief justice began making assignments in 2005, 86 percent of his choices have been Republican appointees, and 50 percent have been former executive branch officials their assignments to the surveillance court were more ideologically diverse, according to an analysis by The New York Times of a list of every judge who has served on the court since it was established in 1978. According to the analysis, 66 percent of their selections were Republican appointees, and 39 percent once worked for the executive branch. “Viewing this data, people with responsibility for national security ought to be very concerned about the impression and appearance, if not the reality, of bias — for favoring the executive branch in its applications for warrants and other action The court “is becoming ever more important in American life as more and more surveillance comes under its review in this era of big data,” said Timothy Edgar, a civil liberties adviser for intelligence issues in both the Bush and Obama administrations. “If the court is seen as skewed or biased, politically or ideologically, it will lose credibility.” Even more important, according to some critics of the court, is the court’s increasing proportion of judges who have a background in the executive branch. Senator Blumenthal, citing his own experience as a United States attorney and a state prosecutor, said judges who used to be executive branch lawyers were more likely to share a “get the bad guys” mind-set and defer to the Justice Department if executive branch officials told them that new surveillance powers were justified',\n",
       " 'The recent leaks about government spying programs have focused attention on the Foreign Intelligence Surveillance Court and its role in deciding how intrusive the government can be in the name of national security In making assignments to the court, Chief Justice Roberts, more than his predecessors, has chosen judges with conservative and executive branch backgrounds that critics say make the court more likely to defer to government arguments that domestic spying programs are necessary Ten of the court’s 11 judges were appointed to the bench by Republican presidents; six once worked for the federal government Since the chief justice began making assignments in 2005, 86 percent of his choices have been Republican appointees, and 50 percent have been former executive branch officials their assignments to the surveillance court were more ideologically diverse, according to an analysis by The New York Times of a list of every judge who has served on the court since it was established in 1978. According to the analysis, 66 percent of their selections were Republican appointees, and 39 percent once worked for the executive branch. “Viewing this data, people with responsibility for national security ought to be very concerned about the impression and appearance, if not the reality, of bias — for favoring the executive branch in its applications for warrants and other action The court “is becoming ever more important in American life as more and more surveillance comes under its review in this era of big data,” said Timothy Edgar, a civil liberties adviser for intelligence issues in both the Bush and Obama administrations. “If the court is seen as skewed or biased, politically or ideologically, it will lose credibility.” Even more important, according to some critics of the court, is the court’s increasing proportion of judges who have a background in the executive branch. Senator Blumenthal, citing his own experience as a United States attorney and a state prosecutor, said judges who used to be executive branch lawyers were more likely to share a “get the bad guys” mind-set and defer to the Justice Department if executive branch officials told them that new surveillance powers were justified',\n",
       " 'Chief Justice Roberts recently named two new judges to the Foreign Intelligence Surveillance Court (FISC This marks a stark departure from Roberts’ thirteen pre-Snowden appointments, eleven of whom were appointed by Republican presidents. The question naturally arises: does this change in composition herald a change in the FISC’s approach? The FISC is not a “rubber stamp,” as some have suggested, but it clearly sees its job as working in partnership with the executive branch to get to “yes.” Needless to say, that’s not the role courts are supposed to serve under our constitutional system of checks and balances. To be clear, less deferential rulings on these procedures would be a major step forward. After all, when the FISC approved the NSA’s 2011 minimization procedures, it approved “back door searches” — in which the government, having certified (as the law requires) that it has no interest in particular, known US persons, runs searches against the data it has collected using the phone numbers and e-mail addresses of particular, known US persons. The fact remains that the legal framework is stacked against meaningful judicial review, relegating the FISC to the role of approving general procedures that leave a great deal of discretion to the executive branch rather than applying the law to the specific facts of a particular case , a pro-government tilt in FISC proceedings is almost inevitable in light of the deference courts show in national security matters',\n",
       " 'As the country attacked on 9/11, the United States sprang into action¶ immediately with a twinned strategy of aggressive military action and new understandings of law From launching wars abroad89 to developing novel¶ strategies for interrogation and widespread¶ surveillance programs at home the Bush Administration , took a generous view of its own powers in wartime Congress passed the USA PATRIOT Act with¶ nearly unprecedented speed increasing domestic¶ surveillance capacities of the U.S. government and adding a toxic mix of small¶ changes in U.S. law that allowed the government to operate secretly and to¶ commandeer private resources in the anti-terrorism campaign',\n",
       " 'Pauley asserted The effectiveness of bulk telephony metadata collection cannot be seriously disputed',\n",
       " \"When national emergencies strike, the executive acts, Congress acquiesces, and courts defer When emergencies decay, judges become bolder, and soul searching begins. In retrospect, many of the executive's actions will seem unjustified, and people will blame Congress for its acquiescence and courts for their deference. Congress responds by passing new laws that constrain the executive, and courts reassert themselves by supplying relief to anyone who is still subject to emergency measures that have not yet been halted One can identify roughly six periods of emergency during American history, each with its own paradigmatic instance of alleged executive overreaching\",\n",
       " 'The recent leaks about government spying programs have focused attention on the Foreign Intelligence Surveillance Court and its role in deciding how intrusive the government can be in the name of national security In making assignments to the court, Chief Justice Roberts, more than his predecessors, has chosen judges with conservative and executive branch backgrounds that critics say make the court more likely to defer to government arguments that domestic spying programs are necessary Ten of the court’s 11 judges were appointed to the bench by Republican presidents; six once worked for the federal government Since the chief justice began making assignments in 2005, 86 percent of his choices have been Republican appointees, and 50 percent have been former executive branch officials their assignments to the surveillance court were more ideologically diverse, according to an analysis by The New York Times of a list of every judge who has served on the court since it was established in 1978. According to the analysis, 66 percent of their selections were Republican appointees, and 39 percent once worked for the executive branch. “Viewing this data, people with responsibility for national security ought to be very concerned about the impression and appearance, if not the reality, of bias — for favoring the executive branch in its applications for warrants and other action The court “is becoming ever more important in American life as more and more surveillance comes under its review in this era of big data,” said Timothy Edgar, a civil liberties adviser for intelligence issues in both the Bush and Obama administrations. “If the court is seen as skewed or biased, politically or ideologically, it will lose credibility.” Even more important, according to some critics of the court, is the court’s increasing proportion of judges who have a background in the executive branch. Senator Blumenthal, citing his own experience as a United States attorney and a state prosecutor, said judges who used to be executive branch lawyers were more likely to share a “get the bad guys” mind-set and defer to the Justice Department if executive branch officials told them that new surveillance powers were justified',\n",
       " 'Merkel demanded the U S strike a \"no-spying\" agreement with Berlin and Paris saying alleged espionage against EU allies had to be stopped the chancellor said she wanted action from Obama Germany and France would seek a \"mutual understanding\" with the United States on cooperation between their intelligence agencies, and other EU member states could eventually take part the EU\\'s 28 leaders said they supported the Franco-German plan Merkel raised the with Obama but nothing came of it The United States has a \"no-spying\" deal with Britain, Australia, New Zealand and Canada, an alliance known as \"Five Eyes\" there has traditionally been a reluctance to make similar arrangements with other allies Merkel said an accord with Washington was long overdue The friendship and partnership between the European member states, includingGermany, and the United States is not a one-way street. We depend on it the United States also needs friends in the w As EU leaders arrived for the two-day summit there was near-universal condemnation of the alleged activities by the NSA senior officials have called for talks between the EU and United States on a free-trade agreement to be suspended because of the spying allegations The series of Snowden-based leak have left Washington at odds with a host of important allies, from Brazil to Saudi Arabia, and there are few signs that the revelations are going to dry up anytime soon',\n",
       " \"When national emergencies strike, the executive acts, Congress acquiesces, and courts defer When emergencies decay, judges become bolder, and soul searching begins. In retrospect, many of the executive's actions will seem unjustified, and people will blame Congress for its acquiescence and courts for their deference. Congress responds by passing new laws that constrain the executive, and courts reassert themselves by supplying relief to anyone who is still subject to emergency measures that have not yet been halted One can identify roughly six periods of emergency during American history, each with its own paradigmatic instance of alleged executive overreaching\",\n",
       " 'Merkel demanded the U S strike a \"no-spying\" agreement with Berlin and Paris saying alleged espionage against EU allies had to be stopped the chancellor said she wanted action from Obama Germany and France would seek a \"mutual understanding\" with the United States on cooperation between their intelligence agencies, and other EU member states could eventually take part the EU\\'s 28 leaders said they supported the Franco-German plan Merkel raised the with Obama but nothing came of it The United States has a \"no-spying\" deal with Britain, Australia, New Zealand and Canada, an alliance known as \"Five Eyes\" there has traditionally been a reluctance to make similar arrangements with other allies Merkel said an accord with Washington was long overdue The friendship and partnership between the European member states, includingGermany, and the United States is not a one-way street. We depend on it the United States also needs friends in the w As EU leaders arrived for the two-day summit there was near-universal condemnation of the alleged activities by the NSA senior officials have called for talks between the EU and United States on a free-trade agreement to be suspended because of the spying allegations The series of Snowden-based leak have left Washington at odds with a host of important allies, from Brazil to Saudi Arabia, and there are few signs that the revelations are going to dry up anytime soon',\n",
       " 'As the country attacked on 9/11, the United States sprang into action¶ immediately with a twinned strategy of aggressive military action and new understandings of law From launching wars abroad89 to developing novel¶ strategies for interrogation and widespread¶ surveillance programs at home the Bush Administration , took a generous view of its own powers in wartime Congress passed the USA PATRIOT Act with¶ nearly unprecedented speed increasing domestic¶ surveillance capacities of the U.S. government and adding a toxic mix of small¶ changes in U.S. law that allowed the government to operate secretly and to¶ commandeer private resources in the anti-terrorism campaign',\n",
       " 'Germany\\'s top public prosecutor closed a year-long investigation into the suspected tapping of Chancellor Angela Merkel\\'s cell phone by U.S. spies, saying there was a lack of evidence Dropping its probe in a case that had caused strains between Germany and the United States, the prosecutor said it could not find evidence \"The accusations made would not stand up in court with the means available for criminal proceedings,\" there was not enough clarity to bring charges. There is no proof which could lead to charges that Chancellor Merkel\\'s phone connection data was collected or her calls tapped.\"',\n",
       " 'to say that cases are justiciable begs the question Why should such claims automatically be justiciable? It contravenes the purpose and articulation of the political question doctrine Baker demanded \"discriminating\" case-by-case inquiries Extending the political question doctrine would surpass precedent Yet with respect to the theory behind the doctrine such an extension is proper because cases would push existing nuisance law to embrace a complex, qualitatively unique phenomenon that cannot be prudentially adjudicated This does not suggest where the line ought to be drawn A consideration of the potential doctrinal \"slippery slope\" where courts improperly adjudicate claims',\n",
       " 'It is precisely courts’ inability to “establish a national or international emissions policy” that renders judicial relief such a conceptual and methodological mismatch with climate change since it is litigation’s inability to grapple with climate change at a systemic level that deprives courts of “judicially manageable standards” for adjudicating climate change claims The fact that courts are incapable, of binding anyone other than the litigants before them automatically makes them institutionally ill-suited to entertain lawsuits concerning problems this irreducibly global and interconnected in scope.',\n",
       " '228 Since lower courts must hear cases properly before them, there may be issues that lower courts have dismissed under the political question doctrine where ―the Supreme Court has the luxury of simply denying review.‖229 Lower courts might use the doctrine to avoid deciding politically charged, cumbersome, and novel cases, such as the climate change nuisance cases this would be less likely to occur if the purposes of the doctrine were enumerated by the Supreme Court and if the doctrine was narrowed in scope by narrowing the doctrine, it would be clearly inapplicable to cases which previously may have been dismissed under the prudential formulations of the doctrine.',\n",
       " 'As the country attacked on 9/11, the United States sprang into action¶ immediately with a twinned strategy of aggressive military action and new understandings of law From launching wars abroad89 to developing novel¶ strategies for interrogation and widespread¶ surveillance programs at home the Bush Administration , took a generous view of its own powers in wartime Congress passed the USA PATRIOT Act with¶ nearly unprecedented speed increasing domestic¶ surveillance capacities of the U.S. government and adding a toxic mix of small¶ changes in U.S. law that allowed the government to operate secretly and to¶ commandeer private resources in the anti-terrorism campaign',\n",
       " 'Chief Justice Roberts recently named two new judges to the Foreign Intelligence Surveillance Court (FISC This marks a stark departure from Roberts’ thirteen pre-Snowden appointments, eleven of whom were appointed by Republican presidents. The question naturally arises: does this change in composition herald a change in the FISC’s approach? The FISC is not a “rubber stamp,” as some have suggested, but it clearly sees its job as working in partnership with the executive branch to get to “yes.” Needless to say, that’s not the role courts are supposed to serve under our constitutional system of checks and balances. To be clear, less deferential rulings on these procedures would be a major step forward. After all, when the FISC approved the NSA’s 2011 minimization procedures, it approved “back door searches” — in which the government, having certified (as the law requires) that it has no interest in particular, known US persons, runs searches against the data it has collected using the phone numbers and e-mail addresses of particular, known US persons. The fact remains that the legal framework is stacked against meaningful judicial review, relegating the FISC to the role of approving general procedures that leave a great deal of discretion to the executive branch rather than applying the law to the specific facts of a particular case , a pro-government tilt in FISC proceedings is almost inevitable in light of the deference courts show in national security matters',\n",
       " 'As the country attacked on 9/11, the United States sprang into action¶ immediately with a twinned strategy of aggressive military action and new understandings of law From launching wars abroad89 to developing novel¶ strategies for interrogation and widespread¶ surveillance programs at home the Bush Administration , took a generous view of its own powers in wartime Congress passed the USA PATRIOT Act with¶ nearly unprecedented speed increasing domestic¶ surveillance capacities of the U.S. government and adding a toxic mix of small¶ changes in U.S. law that allowed the government to operate secretly and to¶ commandeer private resources in the anti-terrorism campaign',\n",
       " 'Unlike courts, Congress can find ways to reach these goals without infringing on the primary benefits of inexpensive energy, which has been a driving force in America’s economic success Should utilities not be able to generate sufficient electricity in compliance with a court order, the brown-outs in California from a decade ago can give a glimpse as to the impact an electricity shortage could have on communities. Policymakers would likely be hamstrung, though, if the brown-outs—whether more or less drastic than those projected for the summer of 2001—were caused by judicially-imposed limits that companies had to meet or be subject to massive, additional liability.¶ Any such cost increases or energy shortages would have broad ripple effects . If American businesses, from manufacturers to service companies, had to adjust to more expensive, less available energy, then they would be significantly disadvantaged. Already, the recent rise in energy costs has taken its toll on American companies’ ability to compete internationally Thechemical industry energy cost increases “have eroded the U.S. chemicals industry’s competitive position,” Consider the energy sectors themselves, as the natural gas industry alone employs over 600,000 workers directly and helps create an estimated three million other American jobs.221 The transportation industry would also be hit hard Rising energy costs have been a significant factor in the recent challenges facing the airline industry judicially-mandated reductions in GHGs could directly determine their economic viability.222',\n",
       " 'As the country attacked on 9/11, the United States sprang into action¶ immediately with a twinned strategy of aggressive military action and new understandings of law From launching wars abroad89 to developing novel¶ strategies for interrogation and widespread¶ surveillance programs at home the Bush Administration , took a generous view of its own powers in wartime Congress passed the USA PATRIOT Act with¶ nearly unprecedented speed increasing domestic¶ surveillance capacities of the U.S. government and adding a toxic mix of small¶ changes in U.S. law that allowed the government to operate secretly and to¶ commandeer private resources in the anti-terrorism campaign',\n",
       " 'Merkel demanded the U S strike a \"no-spying\" agreement with Berlin and Paris saying alleged espionage against EU allies had to be stopped the chancellor said she wanted action from Obama Germany and France would seek a \"mutual understanding\" with the United States on cooperation between their intelligence agencies, and other EU member states could eventually take part the EU\\'s 28 leaders said they supported the Franco-German plan Merkel raised the with Obama but nothing came of it The United States has a \"no-spying\" deal with Britain, Australia, New Zealand and Canada, an alliance known as \"Five Eyes\" there has traditionally been a reluctance to make similar arrangements with other allies Merkel said an accord with Washington was long overdue The friendship and partnership between the European member states, includingGermany, and the United States is not a one-way street. We depend on it the United States also needs friends in the w As EU leaders arrived for the two-day summit there was near-universal condemnation of the alleged activities by the NSA senior officials have called for talks between the EU and United States on a free-trade agreement to be suspended because of the spying allegations The series of Snowden-based leak have left Washington at odds with a host of important allies, from Brazil to Saudi Arabia, and there are few signs that the revelations are going to dry up anytime soon',\n",
       " 'The recent leaks about government spying programs have focused attention on the Foreign Intelligence Surveillance Court and its role in deciding how intrusive the government can be in the name of national security In making assignments to the court, Chief Justice Roberts, more than his predecessors, has chosen judges with conservative and executive branch backgrounds that critics say make the court more likely to defer to government arguments that domestic spying programs are necessary Ten of the court’s 11 judges were appointed to the bench by Republican presidents; six once worked for the federal government Since the chief justice began making assignments in 2005, 86 percent of his choices have been Republican appointees, and 50 percent have been former executive branch officials their assignments to the surveillance court were more ideologically diverse, according to an analysis by The New York Times of a list of every judge who has served on the court since it was established in 1978. According to the analysis, 66 percent of their selections were Republican appointees, and 39 percent once worked for the executive branch. “Viewing this data, people with responsibility for national security ought to be very concerned about the impression and appearance, if not the reality, of bias — for favoring the executive branch in its applications for warrants and other action The court “is becoming ever more important in American life as more and more surveillance comes under its review in this era of big data,” said Timothy Edgar, a civil liberties adviser for intelligence issues in both the Bush and Obama administrations. “If the court is seen as skewed or biased, politically or ideologically, it will lose credibility.” Even more important, according to some critics of the court, is the court’s increasing proportion of judges who have a background in the executive branch. Senator Blumenthal, citing his own experience as a United States attorney and a state prosecutor, said judges who used to be executive branch lawyers were more likely to share a “get the bad guys” mind-set and defer to the Justice Department if executive branch officials told them that new surveillance powers were justified',\n",
       " 'The recent leaks about government spying programs have focused attention on the Foreign Intelligence Surveillance Court and its role in deciding how intrusive the government can be in the name of national security In making assignments to the court, Chief Justice Roberts, more than his predecessors, has chosen judges with conservative and executive branch backgrounds that critics say make the court more likely to defer to government arguments that domestic spying programs are necessary Ten of the court’s 11 judges were appointed to the bench by Republican presidents; six once worked for the federal government Since the chief justice began making assignments in 2005, 86 percent of his choices have been Republican appointees, and 50 percent have been former executive branch officials their assignments to the surveillance court were more ideologically diverse, according to an analysis by The New York Times of a list of every judge who has served on the court since it was established in 1978. According to the analysis, 66 percent of their selections were Republican appointees, and 39 percent once worked for the executive branch. “Viewing this data, people with responsibility for national security ought to be very concerned about the impression and appearance, if not the reality, of bias — for favoring the executive branch in its applications for warrants and other action The court “is becoming ever more important in American life as more and more surveillance comes under its review in this era of big data,” said Timothy Edgar, a civil liberties adviser for intelligence issues in both the Bush and Obama administrations. “If the court is seen as skewed or biased, politically or ideologically, it will lose credibility.” Even more important, according to some critics of the court, is the court’s increasing proportion of judges who have a background in the executive branch. Senator Blumenthal, citing his own experience as a United States attorney and a state prosecutor, said judges who used to be executive branch lawyers were more likely to share a “get the bad guys” mind-set and defer to the Justice Department if executive branch officials told them that new surveillance powers were justified',\n",
       " 'Despite periodic attempts to assert itself, the legislative branch over time has settled into a secondary role to the executive branch on questions of national security. The dominance of the executive branch in the nuclear age – when presidents claimed the need to act on a moment’s notice – continued into the age of terrorism with the claimed need for vast new spy powers handed over by Congress with the Patriot Act and renewed and extended ever since. Bowing to the president in the interest of protecting the nation has been commonplace for a century, ever since the U.S. became a major international player and had to react quickly to crises. “Presidents assumed power and got away with it,” “It’s the perfect example of Congress handing over power to the executive branch and failing to keep up with it The war powers act is routinely violated these days, “In recent years Congress has tended to defer to the executive branch when it comes to national security-related issues.”',\n",
       " 'Merkel demanded the U S strike a \"no-spying\" agreement with Berlin and Paris saying alleged espionage against EU allies had to be stopped the chancellor said she wanted action from Obama Germany and France would seek a \"mutual understanding\" with the United States on cooperation between their intelligence agencies, and other EU member states could eventually take part the EU\\'s 28 leaders said they supported the Franco-German plan Merkel raised the with Obama but nothing came of it The United States has a \"no-spying\" deal with Britain, Australia, New Zealand and Canada, an alliance known as \"Five Eyes\" there has traditionally been a reluctance to make similar arrangements with other allies Merkel said an accord with Washington was long overdue The friendship and partnership between the European member states, includingGermany, and the United States is not a one-way street. We depend on it the United States also needs friends in the w As EU leaders arrived for the two-day summit there was near-universal condemnation of the alleged activities by the NSA senior officials have called for talks between the EU and United States on a free-trade agreement to be suspended because of the spying allegations The series of Snowden-based leak have left Washington at odds with a host of important allies, from Brazil to Saudi Arabia, and there are few signs that the revelations are going to dry up anytime soon',\n",
       " 'The recent leaks about government spying programs have focused attention on the Foreign Intelligence Surveillance Court and its role in deciding how intrusive the government can be in the name of national security In making assignments to the court, Chief Justice Roberts, more than his predecessors, has chosen judges with conservative and executive branch backgrounds that critics say make the court more likely to defer to government arguments that domestic spying programs are necessary Ten of the court’s 11 judges were appointed to the bench by Republican presidents; six once worked for the federal government Since the chief justice began making assignments in 2005, 86 percent of his choices have been Republican appointees, and 50 percent have been former executive branch officials their assignments to the surveillance court were more ideologically diverse, according to an analysis by The New York Times of a list of every judge who has served on the court since it was established in 1978. According to the analysis, 66 percent of their selections were Republican appointees, and 39 percent once worked for the executive branch. “Viewing this data, people with responsibility for national security ought to be very concerned about the impression and appearance, if not the reality, of bias — for favoring the executive branch in its applications for warrants and other action The court “is becoming ever more important in American life as more and more surveillance comes under its review in this era of big data,” said Timothy Edgar, a civil liberties adviser for intelligence issues in both the Bush and Obama administrations. “If the court is seen as skewed or biased, politically or ideologically, it will lose credibility.” Even more important, according to some critics of the court, is the court’s increasing proportion of judges who have a background in the executive branch. Senator Blumenthal, citing his own experience as a United States attorney and a state prosecutor, said judges who used to be executive branch lawyers were more likely to share a “get the bad guys” mind-set and defer to the Justice Department if executive branch officials told them that new surveillance powers were justified',\n",
       " 'New legislation to deal with the global problem of climate change may seem politically unrealistic but there are reasons to think that the prospect of reaching an international agreement may be more viable now than it was in the past UN Secretary-General Ban Ki-Moon recently called for world leaders to meet in anticipation of the 2015 international climate meeting in Paris and the Intergovernmental Panel on Climate Change (IPCC) recently announced that humans are the dominant cause of global warming since the 1950s. the international community generally accepts the science Interestingly, this could indicate that reaching an international agreement is easier than reaching a domestic agreement , domestic action may be facilitated, especially if the President stands behind the agreement. Meaningful climate change regulation is inevitable the question is when it will come. Environmentalists must be aware of not only possible political solutions, but also potential fallout of judicial determinations. If an international deal is brokered, it would be counterproductive to provide domestic dissenters with any fodder to challenge it.',\n",
       " 'The reason emerges if one considers issues that courts are asked to address involving novel problems the Constitution’s framers could not have anticipated with sufficient specificity to entrust their resolution to Congress or to the Executive in haec verba A perfect exemplar of such problems is the nest of puzzles posed by human- induced climate change. When matters of that character are taken to court for resolution by judges, what marks them as “political” for purposes of the “political question doctrine” is not some problem-specific language but, rather, the demonstrable intractability of those matters to principled resolution through lawsuit to the pluralistic processes of legislation and treaty-making rather than to the principle-bound process of judicially resolving what Article III denominates “cases” and “controversies.” In other words, the judicial unmanageability of an issue serves as powerful evidence that the Constitution’s text reserves that issue, even if broadly and implicitly, to the political branches.5',\n",
       " '. The French president and the German chancellor don’t get along Hollande is overwhelmed by his own internal problems Merkel is disgusted by the way Hollande runs his affairs and can barely hold her temper when they meet The result has been a breakdown in Franco-German friendship, accompanied by acrimony and mud-slinging This is a very serious matter, for the Franco-German axis is the essential mechanism that allows the EU to work. Unless it functions smoothly the Union is bound, sooner or later, to dissolve There isn’t much chance of other members bringing the French and Germans together Spain is crippled Italy has only recently managed to form a co alition ministry and is in no position to take its eyes off its own domestic woes smaller states re bitterly anti-German Germans believe that if on its own and didn’t have to bail out bankrupt states like Ireland, Portugal and Greece the banking crisis would be history by now This will have little effect on American prosperity but it is a return to realism that Washington should welcome',\n",
       " 'Pauley asserted The effectiveness of bulk telephony metadata collection cannot be seriously disputed',\n",
       " 'The reason emerges if one considers issues that courts are asked to address involving novel problems the Constitution’s framers could not have anticipated with sufficient specificity to entrust their resolution to Congress or to the Executive in haec verba A perfect exemplar of such problems is the nest of puzzles posed by human- induced climate change. When matters of that character are taken to court for resolution by judges, what marks them as “political” for purposes of the “political question doctrine” is not some problem-specific language but, rather, the demonstrable intractability of those matters to principled resolution through lawsuit to the pluralistic processes of legislation and treaty-making rather than to the principle-bound process of judicially resolving what Article III denominates “cases” and “controversies.” In other words, the judicial unmanageability of an issue serves as powerful evidence that the Constitution’s text reserves that issue, even if broadly and implicitly, to the political branches.5',\n",
       " 'It is precisely courts’ inability to “establish a national or international emissions policy” that renders judicial relief such a conceptual and methodological mismatch with climate change since it is litigation’s inability to grapple with climate change at a systemic level that deprives courts of “judicially manageable standards” for adjudicating climate change claims The fact that courts are incapable, of binding anyone other than the litigants before them automatically makes them institutionally ill-suited to entertain lawsuits concerning problems this irreducibly global and interconnected in scope.',\n",
       " '228 Since lower courts must hear cases properly before them, there may be issues that lower courts have dismissed under the political question doctrine where ―the Supreme Court has the luxury of simply denying review.‖229 Lower courts might use the doctrine to avoid deciding politically charged, cumbersome, and novel cases, such as the climate change nuisance cases this would be less likely to occur if the purposes of the doctrine were enumerated by the Supreme Court and if the doctrine was narrowed in scope by narrowing the doctrine, it would be clearly inapplicable to cases which previously may have been dismissed under the prudential formulations of the doctrine.',\n",
       " 'As the country attacked on 9/11, the United States sprang into action¶ immediately with a twinned strategy of aggressive military action and new understandings of law From launching wars abroad89 to developing novel¶ strategies for interrogation and widespread¶ surveillance programs at home the Bush Administration , took a generous view of its own powers in wartime Congress passed the USA PATRIOT Act with¶ nearly unprecedented speed increasing domestic¶ surveillance capacities of the U.S. government and adding a toxic mix of small¶ changes in U.S. law that allowed the government to operate secretly and to¶ commandeer private resources in the anti-terrorism campaign',\n",
       " 'Despite periodic attempts to assert itself, the legislative branch over time has settled into a secondary role to the executive branch on questions of national security. The dominance of the executive branch in the nuclear age – when presidents claimed the need to act on a moment’s notice – continued into the age of terrorism with the claimed need for vast new spy powers handed over by Congress with the Patriot Act and renewed and extended ever since. Bowing to the president in the interest of protecting the nation has been commonplace for a century, ever since the U.S. became a major international player and had to react quickly to crises. “Presidents assumed power and got away with it,” “It’s the perfect example of Congress handing over power to the executive branch and failing to keep up with it The war powers act is routinely violated these days, “In recent years Congress has tended to defer to the executive branch when it comes to national security-related issues.”',\n",
       " 'The recent leaks about government spying programs have focused attention on the Foreign Intelligence Surveillance Court and its role in deciding how intrusive the government can be in the name of national security In making assignments to the court, Chief Justice Roberts, more than his predecessors, has chosen judges with conservative and executive branch backgrounds that critics say make the court more likely to defer to government arguments that domestic spying programs are necessary Ten of the court’s 11 judges were appointed to the bench by Republican presidents; six once worked for the federal government Since the chief justice began making assignments in 2005, 86 percent of his choices have been Republican appointees, and 50 percent have been former executive branch officials their assignments to the surveillance court were more ideologically diverse, according to an analysis by The New York Times of a list of every judge who has served on the court since it was established in 1978. According to the analysis, 66 percent of their selections were Republican appointees, and 39 percent once worked for the executive branch. “Viewing this data, people with responsibility for national security ought to be very concerned about the impression and appearance, if not the reality, of bias — for favoring the executive branch in its applications for warrants and other action The court “is becoming ever more important in American life as more and more surveillance comes under its review in this era of big data,” said Timothy Edgar, a civil liberties adviser for intelligence issues in both the Bush and Obama administrations. “If the court is seen as skewed or biased, politically or ideologically, it will lose credibility.” Even more important, according to some critics of the court, is the court’s increasing proportion of judges who have a background in the executive branch. Senator Blumenthal, citing his own experience as a United States attorney and a state prosecutor, said judges who used to be executive branch lawyers were more likely to share a “get the bad guys” mind-set and defer to the Justice Department if executive branch officials told them that new surveillance powers were justified',\n",
       " '228 Since lower courts must hear cases properly before them, there may be issues that lower courts have dismissed under the political question doctrine where ―the Supreme Court has the luxury of simply denying review.‖229 Lower courts might use the doctrine to avoid deciding politically charged, cumbersome, and novel cases, such as the climate change nuisance cases this would be less likely to occur if the purposes of the doctrine were enumerated by the Supreme Court and if the doctrine was narrowed in scope by narrowing the doctrine, it would be clearly inapplicable to cases which previously may have been dismissed under the prudential formulations of the doctrine.',\n",
       " 'In the wake of the government‘s failure to enact legislation, various private parties and states have initiated litigation for harms incurred due to climate change these cases were dismissed at the district court level due to he political question doctrine.10 due to the broad nature of the doctrine in its current form it has been applied to politically charged, but judiciable, issues',\n",
       " 'New legislation to deal with the global problem of climate change may seem politically unrealistic but there are reasons to think that the prospect of reaching an international agreement may be more viable now than it was in the past UN Secretary-General Ban Ki-Moon recently called for world leaders to meet in anticipation of the 2015 international climate meeting in Paris and the Intergovernmental Panel on Climate Change (IPCC) recently announced that humans are the dominant cause of global warming since the 1950s. the international community generally accepts the science Interestingly, this could indicate that reaching an international agreement is easier than reaching a domestic agreement , domestic action may be facilitated, especially if the President stands behind the agreement. Meaningful climate change regulation is inevitable the question is when it will come. Environmentalists must be aware of not only possible political solutions, but also potential fallout of judicial determinations. If an international deal is brokered, it would be counterproductive to provide domestic dissenters with any fodder to challenge it.',\n",
       " \"When national emergencies strike, the executive acts, Congress acquiesces, and courts defer When emergencies decay, judges become bolder, and soul searching begins. In retrospect, many of the executive's actions will seem unjustified, and people will blame Congress for its acquiescence and courts for their deference. Congress responds by passing new laws that constrain the executive, and courts reassert themselves by supplying relief to anyone who is still subject to emergency measures that have not yet been halted One can identify roughly six periods of emergency during American history, each with its own paradigmatic instance of alleged executive overreaching\",\n",
       " 'The recent leaks about government spying programs have focused attention on the Foreign Intelligence Surveillance Court and its role in deciding how intrusive the government can be in the name of national security In making assignments to the court, Chief Justice Roberts, more than his predecessors, has chosen judges with conservative and executive branch backgrounds that critics say make the court more likely to defer to government arguments that domestic spying programs are necessary Ten of the court’s 11 judges were appointed to the bench by Republican presidents; six once worked for the federal government Since the chief justice began making assignments in 2005, 86 percent of his choices have been Republican appointees, and 50 percent have been former executive branch officials their assignments to the surveillance court were more ideologically diverse, according to an analysis by The New York Times of a list of every judge who has served on the court since it was established in 1978. According to the analysis, 66 percent of their selections were Republican appointees, and 39 percent once worked for the executive branch. “Viewing this data, people with responsibility for national security ought to be very concerned about the impression and appearance, if not the reality, of bias — for favoring the executive branch in its applications for warrants and other action The court “is becoming ever more important in American life as more and more surveillance comes under its review in this era of big data,” said Timothy Edgar, a civil liberties adviser for intelligence issues in both the Bush and Obama administrations. “If the court is seen as skewed or biased, politically or ideologically, it will lose credibility.” Even more important, according to some critics of the court, is the court’s increasing proportion of judges who have a background in the executive branch. Senator Blumenthal, citing his own experience as a United States attorney and a state prosecutor, said judges who used to be executive branch lawyers were more likely to share a “get the bad guys” mind-set and defer to the Justice Department if executive branch officials told them that new surveillance powers were justified',\n",
       " 'Chief Justice Roberts recently named two new judges to the Foreign Intelligence Surveillance Court (FISC This marks a stark departure from Roberts’ thirteen pre-Snowden appointments, eleven of whom were appointed by Republican presidents. The question naturally arises: does this change in composition herald a change in the FISC’s approach? The FISC is not a “rubber stamp,” as some have suggested, but it clearly sees its job as working in partnership with the executive branch to get to “yes.” Needless to say, that’s not the role courts are supposed to serve under our constitutional system of checks and balances. To be clear, less deferential rulings on these procedures would be a major step forward. After all, when the FISC approved the NSA’s 2011 minimization procedures, it approved “back door searches” — in which the government, having certified (as the law requires) that it has no interest in particular, known US persons, runs searches against the data it has collected using the phone numbers and e-mail addresses of particular, known US persons. The fact remains that the legal framework is stacked against meaningful judicial review, relegating the FISC to the role of approving general procedures that leave a great deal of discretion to the executive branch rather than applying the law to the specific facts of a particular case , a pro-government tilt in FISC proceedings is almost inevitable in light of the deference courts show in national security matters',\n",
       " 'French Minister Valls asked the U S to repair the damage that the tapping has caused. \"The US must recognize dangers such actions pose and quickly, to repair the damage it causes to the relations between allied countries and between France and the United States The reported spying creates a discomfort But, it is absolutely important and vital for both countries to maintain their partnership, given that there are many sensitive issues which remained unsolved In the face of threats that we face and given the historic ties linking us, we have to keep a perspective. We\\'re not going to break diplomatic ties Obama reiterated unequivocally his firm commitment to end the practices that were allowed to happen in the past and that were unacceptable among allies But \"the French intelligence officials will travel soon to Washington to deepen cooperation',\n",
       " '. The French president and the German chancellor don’t get along Hollande is overwhelmed by his own internal problems Merkel is disgusted by the way Hollande runs his affairs and can barely hold her temper when they meet The result has been a breakdown in Franco-German friendship, accompanied by acrimony and mud-slinging This is a very serious matter, for the Franco-German axis is the essential mechanism that allows the EU to work. Unless it functions smoothly the Union is bound, sooner or later, to dissolve There isn’t much chance of other members bringing the French and Germans together Spain is crippled Italy has only recently managed to form a co alition ministry and is in no position to take its eyes off its own domestic woes smaller states re bitterly anti-German Germans believe that if on its own and didn’t have to bail out bankrupt states like Ireland, Portugal and Greece the banking crisis would be history by now This will have little effect on American prosperity but it is a return to realism that Washington should welcome',\n",
       " 'Merkel demanded the U S strike a \"no-spying\" agreement with Berlin and Paris saying alleged espionage against EU allies had to be stopped the chancellor said she wanted action from Obama Germany and France would seek a \"mutual understanding\" with the United States on cooperation between their intelligence agencies, and other EU member states could eventually take part the EU\\'s 28 leaders said they supported the Franco-German plan Merkel raised the with Obama but nothing came of it The United States has a \"no-spying\" deal with Britain, Australia, New Zealand and Canada, an alliance known as \"Five Eyes\" there has traditionally been a reluctance to make similar arrangements with other allies Merkel said an accord with Washington was long overdue The friendship and partnership between the European member states, includingGermany, and the United States is not a one-way street. We depend on it the United States also needs friends in the w As EU leaders arrived for the two-day summit there was near-universal condemnation of the alleged activities by the NSA senior officials have called for talks between the EU and United States on a free-trade agreement to be suspended because of the spying allegations The series of Snowden-based leak have left Washington at odds with a host of important allies, from Brazil to Saudi Arabia, and there are few signs that the revelations are going to dry up anytime soon',\n",
       " 'Merkel demanded the U S strike a \"no-spying\" agreement with Berlin and Paris saying alleged espionage against EU allies had to be stopped the chancellor said she wanted action from Obama Germany and France would seek a \"mutual understanding\" with the United States on cooperation between their intelligence agencies, and other EU member states could eventually take part the EU\\'s 28 leaders said they supported the Franco-German plan Merkel raised the with Obama but nothing came of it The United States has a \"no-spying\" deal with Britain, Australia, New Zealand and Canada, an alliance known as \"Five Eyes\" there has traditionally been a reluctance to make similar arrangements with other allies Merkel said an accord with Washington was long overdue The friendship and partnership between the European member states, includingGermany, and the United States is not a one-way street. We depend on it the United States also needs friends in the w As EU leaders arrived for the two-day summit there was near-universal condemnation of the alleged activities by the NSA senior officials have called for talks between the EU and United States on a free-trade agreement to be suspended because of the spying allegations The series of Snowden-based leak have left Washington at odds with a host of important allies, from Brazil to Saudi Arabia, and there are few signs that the revelations are going to dry up anytime soon',\n",
       " 'Merkel demanded the U S strike a \"no-spying\" agreement with Berlin and Paris saying alleged espionage against EU allies had to be stopped the chancellor said she wanted action from Obama Germany and France would seek a \"mutual understanding\" with the United States on cooperation between their intelligence agencies, and other EU member states could eventually take part the EU\\'s 28 leaders said they supported the Franco-German plan Merkel raised the with Obama but nothing came of it The United States has a \"no-spying\" deal with Britain, Australia, New Zealand and Canada, an alliance known as \"Five Eyes\" there has traditionally been a reluctance to make similar arrangements with other allies Merkel said an accord with Washington was long overdue The friendship and partnership between the European member states, includingGermany, and the United States is not a one-way street. We depend on it the United States also needs friends in the w As EU leaders arrived for the two-day summit there was near-universal condemnation of the alleged activities by the NSA senior officials have called for talks between the EU and United States on a free-trade agreement to be suspended because of the spying allegations The series of Snowden-based leak have left Washington at odds with a host of important allies, from Brazil to Saudi Arabia, and there are few signs that the revelations are going to dry up anytime soon',\n",
       " 'Pauley asserted The effectiveness of bulk telephony metadata collection cannot be seriously disputed',\n",
       " 'Pauley asserted The effectiveness of bulk telephony metadata collection cannot be seriously disputed',\n",
       " 'Pauley asserted The effectiveness of bulk telephony metadata collection cannot be seriously disputed',\n",
       " 'Merkel demanded the U S strike a \"no-spying\" agreement with Berlin and Paris saying alleged espionage against EU allies had to be stopped the chancellor said she wanted action from Obama Germany and France would seek a \"mutual understanding\" with the United States on cooperation between their intelligence agencies, and other EU member states could eventually take part the EU\\'s 28 leaders said they supported the Franco-German plan Merkel raised the with Obama but nothing came of it The United States has a \"no-spying\" deal with Britain, Australia, New Zealand and Canada, an alliance known as \"Five Eyes\" there has traditionally been a reluctance to make similar arrangements with other allies Merkel said an accord with Washington was long overdue The friendship and partnership between the European member states, includingGermany, and the United States is not a one-way street. We depend on it the United States also needs friends in the w As EU leaders arrived for the two-day summit there was near-universal condemnation of the alleged activities by the NSA senior officials have called for talks between the EU and United States on a free-trade agreement to be suspended because of the spying allegations The series of Snowden-based leak have left Washington at odds with a host of important allies, from Brazil to Saudi Arabia, and there are few signs that the revelations are going to dry up anytime soon',\n",
       " \"When national emergencies strike, the executive acts, Congress acquiesces, and courts defer When emergencies decay, judges become bolder, and soul searching begins. In retrospect, many of the executive's actions will seem unjustified, and people will blame Congress for its acquiescence and courts for their deference. Congress responds by passing new laws that constrain the executive, and courts reassert themselves by supplying relief to anyone who is still subject to emergency measures that have not yet been halted One can identify roughly six periods of emergency during American history, each with its own paradigmatic instance of alleged executive overreaching\",\n",
       " 'Merkel demanded the U S strike a \"no-spying\" agreement with Berlin and Paris saying alleged espionage against EU allies had to be stopped the chancellor said she wanted action from Obama Germany and France would seek a \"mutual understanding\" with the United States on cooperation between their intelligence agencies, and other EU member states could eventually take part the EU\\'s 28 leaders said they supported the Franco-German plan Merkel raised the with Obama but nothing came of it The United States has a \"no-spying\" deal with Britain, Australia, New Zealand and Canada, an alliance known as \"Five Eyes\" there has traditionally been a reluctance to make similar arrangements with other allies Merkel said an accord with Washington was long overdue The friendship and partnership between the European member states, includingGermany, and the United States is not a one-way street. We depend on it the United States also needs friends in the w As EU leaders arrived for the two-day summit there was near-universal condemnation of the alleged activities by the NSA senior officials have called for talks between the EU and United States on a free-trade agreement to be suspended because of the spying allegations The series of Snowden-based leak have left Washington at odds with a host of important allies, from Brazil to Saudi Arabia, and there are few signs that the revelations are going to dry up anytime soon',\n",
       " 'Merkel demanded the U S strike a \"no-spying\" agreement with Berlin and Paris saying alleged espionage against EU allies had to be stopped the chancellor said she wanted action from Obama Germany and France would seek a \"mutual understanding\" with the United States on cooperation between their intelligence agencies, and other EU member states could eventually take part the EU\\'s 28 leaders said they supported the Franco-German plan Merkel raised the with Obama but nothing came of it The United States has a \"no-spying\" deal with Britain, Australia, New Zealand and Canada, an alliance known as \"Five Eyes\" there has traditionally been a reluctance to make similar arrangements with other allies Merkel said an accord with Washington was long overdue The friendship and partnership between the European member states, includingGermany, and the United States is not a one-way street. We depend on it the United States also needs friends in the w As EU leaders arrived for the two-day summit there was near-universal condemnation of the alleged activities by the NSA senior officials have called for talks between the EU and United States on a free-trade agreement to be suspended because of the spying allegations The series of Snowden-based leak have left Washington at odds with a host of important allies, from Brazil to Saudi Arabia, and there are few signs that the revelations are going to dry up anytime soon',\n",
       " 'It is precisely courts’ inability to “establish a national or international emissions policy” that renders judicial relief such a conceptual and methodological mismatch with climate change since it is litigation’s inability to grapple with climate change at a systemic level that deprives courts of “judicially manageable standards” for adjudicating climate change claims The fact that courts are incapable, of binding anyone other than the litigants before them automatically makes them institutionally ill-suited to entertain lawsuits concerning problems this irreducibly global and interconnected in scope.',\n",
       " \"When national emergencies strike, the executive acts, Congress acquiesces, and courts defer When emergencies decay, judges become bolder, and soul searching begins. In retrospect, many of the executive's actions will seem unjustified, and people will blame Congress for its acquiescence and courts for their deference. Congress responds by passing new laws that constrain the executive, and courts reassert themselves by supplying relief to anyone who is still subject to emergency measures that have not yet been halted One can identify roughly six periods of emergency during American history, each with its own paradigmatic instance of alleged executive overreaching\",\n",
       " \"When national emergencies strike, the executive acts, Congress acquiesces, and courts defer When emergencies decay, judges become bolder, and soul searching begins. In retrospect, many of the executive's actions will seem unjustified, and people will blame Congress for its acquiescence and courts for their deference. Congress responds by passing new laws that constrain the executive, and courts reassert themselves by supplying relief to anyone who is still subject to emergency measures that have not yet been halted One can identify roughly six periods of emergency during American history, each with its own paradigmatic instance of alleged executive overreaching\",\n",
       " 'Chief Justice Roberts recently named two new judges to the Foreign Intelligence Surveillance Court (FISC This marks a stark departure from Roberts’ thirteen pre-Snowden appointments, eleven of whom were appointed by Republican presidents. The question naturally arises: does this change in composition herald a change in the FISC’s approach? The FISC is not a “rubber stamp,” as some have suggested, but it clearly sees its job as working in partnership with the executive branch to get to “yes.” Needless to say, that’s not the role courts are supposed to serve under our constitutional system of checks and balances. To be clear, less deferential rulings on these procedures would be a major step forward. After all, when the FISC approved the NSA’s 2011 minimization procedures, it approved “back door searches” — in which the government, having certified (as the law requires) that it has no interest in particular, known US persons, runs searches against the data it has collected using the phone numbers and e-mail addresses of particular, known US persons. The fact remains that the legal framework is stacked against meaningful judicial review, relegating the FISC to the role of approving general procedures that leave a great deal of discretion to the executive branch rather than applying the law to the specific facts of a particular case , a pro-government tilt in FISC proceedings is almost inevitable in light of the deference courts show in national security matters',\n",
       " 'New legislation to deal with the global problem of climate change may seem politically unrealistic but there are reasons to think that the prospect of reaching an international agreement may be more viable now than it was in the past UN Secretary-General Ban Ki-Moon recently called for world leaders to meet in anticipation of the 2015 international climate meeting in Paris and the Intergovernmental Panel on Climate Change (IPCC) recently announced that humans are the dominant cause of global warming since the 1950s. the international community generally accepts the science Interestingly, this could indicate that reaching an international agreement is easier than reaching a domestic agreement , domestic action may be facilitated, especially if the President stands behind the agreement. Meaningful climate change regulation is inevitable the question is when it will come. Environmentalists must be aware of not only possible political solutions, but also potential fallout of judicial determinations. If an international deal is brokered, it would be counterproductive to provide domestic dissenters with any fodder to challenge it.',\n",
       " 'The recent leaks about government spying programs have focused attention on the Foreign Intelligence Surveillance Court and its role in deciding how intrusive the government can be in the name of national security In making assignments to the court, Chief Justice Roberts, more than his predecessors, has chosen judges with conservative and executive branch backgrounds that critics say make the court more likely to defer to government arguments that domestic spying programs are necessary Ten of the court’s 11 judges were appointed to the bench by Republican presidents; six once worked for the federal government Since the chief justice began making assignments in 2005, 86 percent of his choices have been Republican appointees, and 50 percent have been former executive branch officials their assignments to the surveillance court were more ideologically diverse, according to an analysis by The New York Times of a list of every judge who has served on the court since it was established in 1978. According to the analysis, 66 percent of their selections were Republican appointees, and 39 percent once worked for the executive branch. “Viewing this data, people with responsibility for national security ought to be very concerned about the impression and appearance, if not the reality, of bias — for favoring the executive branch in its applications for warrants and other action The court “is becoming ever more important in American life as more and more surveillance comes under its review in this era of big data,” said Timothy Edgar, a civil liberties adviser for intelligence issues in both the Bush and Obama administrations. “If the court is seen as skewed or biased, politically or ideologically, it will lose credibility.” Even more important, according to some critics of the court, is the court’s increasing proportion of judges who have a background in the executive branch. Senator Blumenthal, citing his own experience as a United States attorney and a state prosecutor, said judges who used to be executive branch lawyers were more likely to share a “get the bad guys” mind-set and defer to the Justice Department if executive branch officials told them that new surveillance powers were justified',\n",
       " 'French Minister Valls asked the U S to repair the damage that the tapping has caused. \"The US must recognize dangers such actions pose and quickly, to repair the damage it causes to the relations between allied countries and between France and the United States The reported spying creates a discomfort But, it is absolutely important and vital for both countries to maintain their partnership, given that there are many sensitive issues which remained unsolved In the face of threats that we face and given the historic ties linking us, we have to keep a perspective. We\\'re not going to break diplomatic ties Obama reiterated unequivocally his firm commitment to end the practices that were allowed to happen in the past and that were unacceptable among allies But \"the French intelligence officials will travel soon to Washington to deepen cooperation',\n",
       " 'Merkel demanded the U S strike a \"no-spying\" agreement with Berlin and Paris saying alleged espionage against EU allies had to be stopped the chancellor said she wanted action from Obama Germany and France would seek a \"mutual understanding\" with the United States on cooperation between their intelligence agencies, and other EU member states could eventually take part the EU\\'s 28 leaders said they supported the Franco-German plan Merkel raised the with Obama but nothing came of it The United States has a \"no-spying\" deal with Britain, Australia, New Zealand and Canada, an alliance known as \"Five Eyes\" there has traditionally been a reluctance to make similar arrangements with other allies Merkel said an accord with Washington was long overdue The friendship and partnership between the European member states, includingGermany, and the United States is not a one-way street. We depend on it the United States also needs friends in the w As EU leaders arrived for the two-day summit there was near-universal condemnation of the alleged activities by the NSA senior officials have called for talks between the EU and United States on a free-trade agreement to be suspended because of the spying allegations The series of Snowden-based leak have left Washington at odds with a host of important allies, from Brazil to Saudi Arabia, and there are few signs that the revelations are going to dry up anytime soon',\n",
       " 'Merkel demanded the U S strike a \"no-spying\" agreement with Berlin and Paris saying alleged espionage against EU allies had to be stopped the chancellor said she wanted action from Obama Germany and France would seek a \"mutual understanding\" with the United States on cooperation between their intelligence agencies, and other EU member states could eventually take part the EU\\'s 28 leaders said they supported the Franco-German plan Merkel raised the with Obama but nothing came of it The United States has a \"no-spying\" deal with Britain, Australia, New Zealand and Canada, an alliance known as \"Five Eyes\" there has traditionally been a reluctance to make similar arrangements with other allies Merkel said an accord with Washington was long overdue The friendship and partnership between the European member states, includingGermany, and the United States is not a one-way street. We depend on it the United States also needs friends in the w As EU leaders arrived for the two-day summit there was near-universal condemnation of the alleged activities by the NSA senior officials have called for talks between the EU and United States on a free-trade agreement to be suspended because of the spying allegations The series of Snowden-based leak have left Washington at odds with a host of important allies, from Brazil to Saudi Arabia, and there are few signs that the revelations are going to dry up anytime soon',\n",
       " 'Pauley asserted The effectiveness of bulk telephony metadata collection cannot be seriously disputed',\n",
       " 'Pauley asserted The effectiveness of bulk telephony metadata collection cannot be seriously disputed',\n",
       " 'The reason emerges if one considers issues that courts are asked to address involving novel problems the Constitution’s framers could not have anticipated with sufficient specificity to entrust their resolution to Congress or to the Executive in haec verba A perfect exemplar of such problems is the nest of puzzles posed by human- induced climate change. When matters of that character are taken to court for resolution by judges, what marks them as “political” for purposes of the “political question doctrine” is not some problem-specific language but, rather, the demonstrable intractability of those matters to principled resolution through lawsuit to the pluralistic processes of legislation and treaty-making rather than to the principle-bound process of judicially resolving what Article III denominates “cases” and “controversies.” In other words, the judicial unmanageability of an issue serves as powerful evidence that the Constitution’s text reserves that issue, even if broadly and implicitly, to the political branches.5',\n",
       " 'Unlike courts, Congress can find ways to reach these goals without infringing on the primary benefits of inexpensive energy, which has been a driving force in America’s economic success Should utilities not be able to generate sufficient electricity in compliance with a court order, the brown-outs in California from a decade ago can give a glimpse as to the impact an electricity shortage could have on communities. Policymakers would likely be hamstrung, though, if the brown-outs—whether more or less drastic than those projected for the summer of 2001—were caused by judicially-imposed limits that companies had to meet or be subject to massive, additional liability.¶ Any such cost increases or energy shortages would have broad ripple effects . If American businesses, from manufacturers to service companies, had to adjust to more expensive, less available energy, then they would be significantly disadvantaged. Already, the recent rise in energy costs has taken its toll on American companies’ ability to compete internationally Thechemical industry energy cost increases “have eroded the U.S. chemicals industry’s competitive position,” Consider the energy sectors themselves, as the natural gas industry alone employs over 600,000 workers directly and helps create an estimated three million other American jobs.221 The transportation industry would also be hit hard Rising energy costs have been a significant factor in the recent challenges facing the airline industry judicially-mandated reductions in GHGs could directly determine their economic viability.222',\n",
       " 'Pauley asserted The effectiveness of bulk telephony metadata collection cannot be seriously disputed',\n",
       " 'Despite periodic attempts to assert itself, the legislative branch over time has settled into a secondary role to the executive branch on questions of national security. The dominance of the executive branch in the nuclear age – when presidents claimed the need to act on a moment’s notice – continued into the age of terrorism with the claimed need for vast new spy powers handed over by Congress with the Patriot Act and renewed and extended ever since. Bowing to the president in the interest of protecting the nation has been commonplace for a century, ever since the U.S. became a major international player and had to react quickly to crises. “Presidents assumed power and got away with it,” “It’s the perfect example of Congress handing over power to the executive branch and failing to keep up with it The war powers act is routinely violated these days, “In recent years Congress has tended to defer to the executive branch when it comes to national security-related issues.”',\n",
       " 'to say that cases are justiciable begs the question Why should such claims automatically be justiciable? It contravenes the purpose and articulation of the political question doctrine Baker demanded \"discriminating\" case-by-case inquiries Extending the political question doctrine would surpass precedent Yet with respect to the theory behind the doctrine such an extension is proper because cases would push existing nuisance law to embrace a complex, qualitatively unique phenomenon that cannot be prudentially adjudicated This does not suggest where the line ought to be drawn A consideration of the potential doctrinal \"slippery slope\" where courts improperly adjudicate claims',\n",
       " \"When national emergencies strike, the executive acts, Congress acquiesces, and courts defer When emergencies decay, judges become bolder, and soul searching begins. In retrospect, many of the executive's actions will seem unjustified, and people will blame Congress for its acquiescence and courts for their deference. Congress responds by passing new laws that constrain the executive, and courts reassert themselves by supplying relief to anyone who is still subject to emergency measures that have not yet been halted One can identify roughly six periods of emergency during American history, each with its own paradigmatic instance of alleged executive overreaching\",\n",
       " \"When national emergencies strike, the executive acts, Congress acquiesces, and courts defer When emergencies decay, judges become bolder, and soul searching begins. In retrospect, many of the executive's actions will seem unjustified, and people will blame Congress for its acquiescence and courts for their deference. Congress responds by passing new laws that constrain the executive, and courts reassert themselves by supplying relief to anyone who is still subject to emergency measures that have not yet been halted One can identify roughly six periods of emergency during American history, each with its own paradigmatic instance of alleged executive overreaching\",\n",
       " 'In the wake of the government‘s failure to enact legislation, various private parties and states have initiated litigation for harms incurred due to climate change these cases were dismissed at the district court level due to he political question doctrine.10 due to the broad nature of the doctrine in its current form it has been applied to politically charged, but judiciable, issues',\n",
       " \"When national emergencies strike, the executive acts, Congress acquiesces, and courts defer When emergencies decay, judges become bolder, and soul searching begins. In retrospect, many of the executive's actions will seem unjustified, and people will blame Congress for its acquiescence and courts for their deference. Congress responds by passing new laws that constrain the executive, and courts reassert themselves by supplying relief to anyone who is still subject to emergency measures that have not yet been halted One can identify roughly six periods of emergency during American history, each with its own paradigmatic instance of alleged executive overreaching\",\n",
       " 'Merkel demanded the U S strike a \"no-spying\" agreement with Berlin and Paris saying alleged espionage against EU allies had to be stopped the chancellor said she wanted action from Obama Germany and France would seek a \"mutual understanding\" with the United States on cooperation between their intelligence agencies, and other EU member states could eventually take part the EU\\'s 28 leaders said they supported the Franco-German plan Merkel raised the with Obama but nothing came of it The United States has a \"no-spying\" deal with Britain, Australia, New Zealand and Canada, an alliance known as \"Five Eyes\" there has traditionally been a reluctance to make similar arrangements with other allies Merkel said an accord with Washington was long overdue The friendship and partnership between the European member states, includingGermany, and the United States is not a one-way street. We depend on it the United States also needs friends in the w As EU leaders arrived for the two-day summit there was near-universal condemnation of the alleged activities by the NSA senior officials have called for talks between the EU and United States on a free-trade agreement to be suspended because of the spying allegations The series of Snowden-based leak have left Washington at odds with a host of important allies, from Brazil to Saudi Arabia, and there are few signs that the revelations are going to dry up anytime soon',\n",
       " 'Despite periodic attempts to assert itself, the legislative branch over time has settled into a secondary role to the executive branch on questions of national security. The dominance of the executive branch in the nuclear age – when presidents claimed the need to act on a moment’s notice – continued into the age of terrorism with the claimed need for vast new spy powers handed over by Congress with the Patriot Act and renewed and extended ever since. Bowing to the president in the interest of protecting the nation has been commonplace for a century, ever since the U.S. became a major international player and had to react quickly to crises. “Presidents assumed power and got away with it,” “It’s the perfect example of Congress handing over power to the executive branch and failing to keep up with it The war powers act is routinely violated these days, “In recent years Congress has tended to defer to the executive branch when it comes to national security-related issues.”',\n",
       " 'Merkel demanded the U S strike a \"no-spying\" agreement with Berlin and Paris saying alleged espionage against EU allies had to be stopped the chancellor said she wanted action from Obama Germany and France would seek a \"mutual understanding\" with the United States on cooperation between their intelligence agencies, and other EU member states could eventually take part the EU\\'s 28 leaders said they supported the Franco-German plan Merkel raised the with Obama but nothing came of it The United States has a \"no-spying\" deal with Britain, Australia, New Zealand and Canada, an alliance known as \"Five Eyes\" there has traditionally been a reluctance to make similar arrangements with other allies Merkel said an accord with Washington was long overdue The friendship and partnership between the European member states, includingGermany, and the United States is not a one-way street. We depend on it the United States also needs friends in the w As EU leaders arrived for the two-day summit there was near-universal condemnation of the alleged activities by the NSA senior officials have called for talks between the EU and United States on a free-trade agreement to be suspended because of the spying allegations The series of Snowden-based leak have left Washington at odds with a host of important allies, from Brazil to Saudi Arabia, and there are few signs that the revelations are going to dry up anytime soon',\n",
       " 'Chief Justice Roberts recently named two new judges to the Foreign Intelligence Surveillance Court (FISC This marks a stark departure from Roberts’ thirteen pre-Snowden appointments, eleven of whom were appointed by Republican presidents. The question naturally arises: does this change in composition herald a change in the FISC’s approach? The FISC is not a “rubber stamp,” as some have suggested, but it clearly sees its job as working in partnership with the executive branch to get to “yes.” Needless to say, that’s not the role courts are supposed to serve under our constitutional system of checks and balances. To be clear, less deferential rulings on these procedures would be a major step forward. After all, when the FISC approved the NSA’s 2011 minimization procedures, it approved “back door searches” — in which the government, having certified (as the law requires) that it has no interest in particular, known US persons, runs searches against the data it has collected using the phone numbers and e-mail addresses of particular, known US persons. The fact remains that the legal framework is stacked against meaningful judicial review, relegating the FISC to the role of approving general procedures that leave a great deal of discretion to the executive branch rather than applying the law to the specific facts of a particular case , a pro-government tilt in FISC proceedings is almost inevitable in light of the deference courts show in national security matters',\n",
       " 'There are two basic arguments for marriage equality. The first is that denying same-sex couples the right to marry is unconstitutional The second argument is that denying same-sex couples the right to marry infringes on their ability to make personal decisions about important parts of their lives; in other words, that the denial violates principles of liberty',\n",
       " 'Pauley asserted The effectiveness of bulk telephony metadata collection cannot be seriously disputed',\n",
       " \"When national emergencies strike, the executive acts, Congress acquiesces, and courts defer When emergencies decay, judges become bolder, and soul searching begins. In retrospect, many of the executive's actions will seem unjustified, and people will blame Congress for its acquiescence and courts for their deference. Congress responds by passing new laws that constrain the executive, and courts reassert themselves by supplying relief to anyone who is still subject to emergency measures that have not yet been halted One can identify roughly six periods of emergency during American history, each with its own paradigmatic instance of alleged executive overreaching\",\n",
       " 'As the country attacked on 9/11, the United States sprang into action¶ immediately with a twinned strategy of aggressive military action and new understandings of law From launching wars abroad89 to developing novel¶ strategies for interrogation and widespread¶ surveillance programs at home the Bush Administration , took a generous view of its own powers in wartime Congress passed the USA PATRIOT Act with¶ nearly unprecedented speed increasing domestic¶ surveillance capacities of the U.S. government and adding a toxic mix of small¶ changes in U.S. law that allowed the government to operate secretly and to¶ commandeer private resources in the anti-terrorism campaign',\n",
       " 'As the country attacked on 9/11, the United States sprang into action¶ immediately with a twinned strategy of aggressive military action and new understandings of law From launching wars abroad89 to developing novel¶ strategies for interrogation and widespread¶ surveillance programs at home the Bush Administration , took a generous view of its own powers in wartime Congress passed the USA PATRIOT Act with¶ nearly unprecedented speed increasing domestic¶ surveillance capacities of the U.S. government and adding a toxic mix of small¶ changes in U.S. law that allowed the government to operate secretly and to¶ commandeer private resources in the anti-terrorism campaign',\n",
       " 'Merkel demanded the U S strike a \"no-spying\" agreement with Berlin and Paris saying alleged espionage against EU allies had to be stopped the chancellor said she wanted action from Obama Germany and France would seek a \"mutual understanding\" with the United States on cooperation between their intelligence agencies, and other EU member states could eventually take part the EU\\'s 28 leaders said they supported the Franco-German plan Merkel raised the with Obama but nothing came of it The United States has a \"no-spying\" deal with Britain, Australia, New Zealand and Canada, an alliance known as \"Five Eyes\" there has traditionally been a reluctance to make similar arrangements with other allies Merkel said an accord with Washington was long overdue The friendship and partnership between the European member states, includingGermany, and the United States is not a one-way street. We depend on it the United States also needs friends in the w As EU leaders arrived for the two-day summit there was near-universal condemnation of the alleged activities by the NSA senior officials have called for talks between the EU and United States on a free-trade agreement to be suspended because of the spying allegations The series of Snowden-based leak have left Washington at odds with a host of important allies, from Brazil to Saudi Arabia, and there are few signs that the revelations are going to dry up anytime soon',\n",
       " \"When national emergencies strike, the executive acts, Congress acquiesces, and courts defer When emergencies decay, judges become bolder, and soul searching begins. In retrospect, many of the executive's actions will seem unjustified, and people will blame Congress for its acquiescence and courts for their deference. Congress responds by passing new laws that constrain the executive, and courts reassert themselves by supplying relief to anyone who is still subject to emergency measures that have not yet been halted One can identify roughly six periods of emergency during American history, each with its own paradigmatic instance of alleged executive overreaching\",\n",
       " 'Merkel demanded the U S strike a \"no-spying\" agreement with Berlin and Paris saying alleged espionage against EU allies had to be stopped the chancellor said she wanted action from Obama Germany and France would seek a \"mutual understanding\" with the United States on cooperation between their intelligence agencies, and other EU member states could eventually take part the EU\\'s 28 leaders said they supported the Franco-German plan Merkel raised the with Obama but nothing came of it The United States has a \"no-spying\" deal with Britain, Australia, New Zealand and Canada, an alliance known as \"Five Eyes\" there has traditionally been a reluctance to make similar arrangements with other allies Merkel said an accord with Washington was long overdue The friendship and partnership between the European member states, includingGermany, and the United States is not a one-way street. We depend on it the United States also needs friends in the w As EU leaders arrived for the two-day summit there was near-universal condemnation of the alleged activities by the NSA senior officials have called for talks between the EU and United States on a free-trade agreement to be suspended because of the spying allegations The series of Snowden-based leak have left Washington at odds with a host of important allies, from Brazil to Saudi Arabia, and there are few signs that the revelations are going to dry up anytime soon',\n",
       " \"When national emergencies strike, the executive acts, Congress acquiesces, and courts defer When emergencies decay, judges become bolder, and soul searching begins. In retrospect, many of the executive's actions will seem unjustified, and people will blame Congress for its acquiescence and courts for their deference. Congress responds by passing new laws that constrain the executive, and courts reassert themselves by supplying relief to anyone who is still subject to emergency measures that have not yet been halted One can identify roughly six periods of emergency during American history, each with its own paradigmatic instance of alleged executive overreaching\",\n",
       " 'Chief Justice Roberts recently named two new judges to the Foreign Intelligence Surveillance Court (FISC This marks a stark departure from Roberts’ thirteen pre-Snowden appointments, eleven of whom were appointed by Republican presidents. The question naturally arises: does this change in composition herald a change in the FISC’s approach? The FISC is not a “rubber stamp,” as some have suggested, but it clearly sees its job as working in partnership with the executive branch to get to “yes.” Needless to say, that’s not the role courts are supposed to serve under our constitutional system of checks and balances. To be clear, less deferential rulings on these procedures would be a major step forward. After all, when the FISC approved the NSA’s 2011 minimization procedures, it approved “back door searches” — in which the government, having certified (as the law requires) that it has no interest in particular, known US persons, runs searches against the data it has collected using the phone numbers and e-mail addresses of particular, known US persons. The fact remains that the legal framework is stacked against meaningful judicial review, relegating the FISC to the role of approving general procedures that leave a great deal of discretion to the executive branch rather than applying the law to the specific facts of a particular case , a pro-government tilt in FISC proceedings is almost inevitable in light of the deference courts show in national security matters',\n",
       " 'Merkel demanded the U S strike a \"no-spying\" agreement with Berlin and Paris saying alleged espionage against EU allies had to be stopped the chancellor said she wanted action from Obama Germany and France would seek a \"mutual understanding\" with the United States on cooperation between their intelligence agencies, and other EU member states could eventually take part the EU\\'s 28 leaders said they supported the Franco-German plan Merkel raised the with Obama but nothing came of it The United States has a \"no-spying\" deal with Britain, Australia, New Zealand and Canada, an alliance known as \"Five Eyes\" there has traditionally been a reluctance to make similar arrangements with other allies Merkel said an accord with Washington was long overdue The friendship and partnership between the European member states, includingGermany, and the United States is not a one-way street. We depend on it the United States also needs friends in the w As EU leaders arrived for the two-day summit there was near-universal condemnation of the alleged activities by the NSA senior officials have called for talks between the EU and United States on a free-trade agreement to be suspended because of the spying allegations The series of Snowden-based leak have left Washington at odds with a host of important allies, from Brazil to Saudi Arabia, and there are few signs that the revelations are going to dry up anytime soon',\n",
       " 'Merkel demanded the U S strike a \"no-spying\" agreement with Berlin and Paris saying alleged espionage against EU allies had to be stopped the chancellor said she wanted action from Obama Germany and France would seek a \"mutual understanding\" with the United States on cooperation between their intelligence agencies, and other EU member states could eventually take part the EU\\'s 28 leaders said they supported the Franco-German plan Merkel raised the with Obama but nothing came of it The United States has a \"no-spying\" deal with Britain, Australia, New Zealand and Canada, an alliance known as \"Five Eyes\" there has traditionally been a reluctance to make similar arrangements with other allies Merkel said an accord with Washington was long overdue The friendship and partnership between the European member states, includingGermany, and the United States is not a one-way street. We depend on it the United States also needs friends in the w As EU leaders arrived for the two-day summit there was near-universal condemnation of the alleged activities by the NSA senior officials have called for talks between the EU and United States on a free-trade agreement to be suspended because of the spying allegations The series of Snowden-based leak have left Washington at odds with a host of important allies, from Brazil to Saudi Arabia, and there are few signs that the revelations are going to dry up anytime soon',\n",
       " 'Despite periodic attempts to assert itself, the legislative branch over time has settled into a secondary role to the executive branch on questions of national security. The dominance of the executive branch in the nuclear age – when presidents claimed the need to act on a moment’s notice – continued into the age of terrorism with the claimed need for vast new spy powers handed over by Congress with the Patriot Act and renewed and extended ever since. Bowing to the president in the interest of protecting the nation has been commonplace for a century, ever since the U.S. became a major international player and had to react quickly to crises. “Presidents assumed power and got away with it,” “It’s the perfect example of Congress handing over power to the executive branch and failing to keep up with it The war powers act is routinely violated these days, “In recent years Congress has tended to defer to the executive branch when it comes to national security-related issues.”',\n",
       " 'As the country attacked on 9/11, the United States sprang into action¶ immediately with a twinned strategy of aggressive military action and new understandings of law From launching wars abroad89 to developing novel¶ strategies for interrogation and widespread¶ surveillance programs at home the Bush Administration , took a generous view of its own powers in wartime Congress passed the USA PATRIOT Act with¶ nearly unprecedented speed increasing domestic¶ surveillance capacities of the U.S. government and adding a toxic mix of small¶ changes in U.S. law that allowed the government to operate secretly and to¶ commandeer private resources in the anti-terrorism campaign',\n",
       " 'Despite periodic attempts to assert itself, the legislative branch over time has settled into a secondary role to the executive branch on questions of national security. The dominance of the executive branch in the nuclear age – when presidents claimed the need to act on a moment’s notice – continued into the age of terrorism with the claimed need for vast new spy powers handed over by Congress with the Patriot Act and renewed and extended ever since. Bowing to the president in the interest of protecting the nation has been commonplace for a century, ever since the U.S. became a major international player and had to react quickly to crises. “Presidents assumed power and got away with it,” “It’s the perfect example of Congress handing over power to the executive branch and failing to keep up with it The war powers act is routinely violated these days, “In recent years Congress has tended to defer to the executive branch when it comes to national security-related issues.”',\n",
       " 'Pauley asserted The effectiveness of bulk telephony metadata collection cannot be seriously disputed',\n",
       " 'Merkel demanded the U S strike a \"no-spying\" agreement with Berlin and Paris saying alleged espionage against EU allies had to be stopped the chancellor said she wanted action from Obama Germany and France would seek a \"mutual understanding\" with the United States on cooperation between their intelligence agencies, and other EU member states could eventually take part the EU\\'s 28 leaders said they supported the Franco-German plan Merkel raised the with Obama but nothing came of it The United States has a \"no-spying\" deal with Britain, Australia, New Zealand and Canada, an alliance known as \"Five Eyes\" there has traditionally been a reluctance to make similar arrangements with other allies Merkel said an accord with Washington was long overdue The friendship and partnership between the European member states, includingGermany, and the United States is not a one-way street. We depend on it the United States also needs friends in the w As EU leaders arrived for the two-day summit there was near-universal condemnation of the alleged activities by the NSA senior officials have called for talks between the EU and United States on a free-trade agreement to be suspended because of the spying allegations The series of Snowden-based leak have left Washington at odds with a host of important allies, from Brazil to Saudi Arabia, and there are few signs that the revelations are going to dry up anytime soon',\n",
       " 'Pauley asserted The effectiveness of bulk telephony metadata collection cannot be seriously disputed',\n",
       " 'Merkel demanded the U S strike a \"no-spying\" agreement with Berlin and Paris saying alleged espionage against EU allies had to be stopped the chancellor said she wanted action from Obama Germany and France would seek a \"mutual understanding\" with the United States on cooperation between their intelligence agencies, and other EU member states could eventually take part the EU\\'s 28 leaders said they supported the Franco-German plan Merkel raised the with Obama but nothing came of it The United States has a \"no-spying\" deal with Britain, Australia, New Zealand and Canada, an alliance known as \"Five Eyes\" there has traditionally been a reluctance to make similar arrangements with other allies Merkel said an accord with Washington was long overdue The friendship and partnership between the European member states, includingGermany, and the United States is not a one-way street. We depend on it the United States also needs friends in the w As EU leaders arrived for the two-day summit there was near-universal condemnation of the alleged activities by the NSA senior officials have called for talks between the EU and United States on a free-trade agreement to be suspended because of the spying allegations The series of Snowden-based leak have left Washington at odds with a host of important allies, from Brazil to Saudi Arabia, and there are few signs that the revelations are going to dry up anytime soon',\n",
       " 'Merkel demanded the U S strike a \"no-spying\" agreement with Berlin and Paris saying alleged espionage against EU allies had to be stopped the chancellor said she wanted action from Obama Germany and France would seek a \"mutual understanding\" with the United States on cooperation between their intelligence agencies, and other EU member states could eventually take part the EU\\'s 28 leaders said they supported the Franco-German plan Merkel raised the with Obama but nothing came of it The United States has a \"no-spying\" deal with Britain, Australia, New Zealand and Canada, an alliance known as \"Five Eyes\" there has traditionally been a reluctance to make similar arrangements with other allies Merkel said an accord with Washington was long overdue The friendship and partnership between the European member states, includingGermany, and the United States is not a one-way street. We depend on it the United States also needs friends in the w As EU leaders arrived for the two-day summit there was near-universal condemnation of the alleged activities by the NSA senior officials have called for talks between the EU and United States on a free-trade agreement to be suspended because of the spying allegations The series of Snowden-based leak have left Washington at odds with a host of important allies, from Brazil to Saudi Arabia, and there are few signs that the revelations are going to dry up anytime soon']"
      ]
     },
     "execution_count": 78,
     "metadata": {},
     "output_type": "execute_result"
    }
   ],
   "source": [
    "summary"
   ]
  },
  {
   "cell_type": "code",
   "execution_count": null,
   "id": "376a020b",
   "metadata": {},
   "outputs": [],
   "source": []
  }
 ],
 "metadata": {
  "kernelspec": {
   "display_name": "Python 3",
   "language": "python",
   "name": "python3"
  },
  "language_info": {
   "codemirror_mode": {
    "name": "ipython",
    "version": 3
   },
   "file_extension": ".py",
   "mimetype": "text/x-python",
   "name": "python",
   "nbconvert_exporter": "python",
   "pygments_lexer": "ipython3",
   "version": "3.6.12"
  }
 },
 "nbformat": 4,
 "nbformat_minor": 5
}
