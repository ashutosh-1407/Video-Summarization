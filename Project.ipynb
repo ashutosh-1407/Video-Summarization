{
 "cells": [
  {
   "cell_type": "code",
   "execution_count": 1,
   "id": "3c604395",
   "metadata": {},
   "outputs": [],
   "source": [
    "import pandas as pd\n",
    "import numpy as np"
   ]
  },
  {
   "cell_type": "code",
   "execution_count": 2,
   "id": "44c346a1",
   "metadata": {},
   "outputs": [],
   "source": [
    "# dt = np.dtype([('article', np.unicode_), ('highlights', np.unicode_)])\n",
    "# data = np.fromfile('data/test.bin', dtype=dt)\n",
    "# df = pd.DataFrame(data)"
   ]
  },
  {
   "cell_type": "markdown",
   "id": "9d6515f0",
   "metadata": {},
   "source": [
    "### Reading the debateall dataset"
   ]
  },
  {
   "cell_type": "code",
   "execution_count": 3,
   "id": "0c726aeb",
   "metadata": {},
   "outputs": [
    {
     "data": {
      "text/html": [
       "<div>\n",
       "<style scoped>\n",
       "    .dataframe tbody tr th:only-of-type {\n",
       "        vertical-align: middle;\n",
       "    }\n",
       "\n",
       "    .dataframe tbody tr th {\n",
       "        vertical-align: top;\n",
       "    }\n",
       "\n",
       "    .dataframe thead th {\n",
       "        text-align: right;\n",
       "    }\n",
       "</style>\n",
       "<table border=\"1\" class=\"dataframe\">\n",
       "  <thead>\n",
       "    <tr style=\"text-align: right;\">\n",
       "      <th></th>\n",
       "      <th>Full-Document</th>\n",
       "      <th>Citation</th>\n",
       "      <th>Extract</th>\n",
       "      <th>Abstract</th>\n",
       "      <th>#CharsDocument</th>\n",
       "      <th>#CharsAbstract</th>\n",
       "      <th>#CharsExtract</th>\n",
       "      <th>#WordsDocument</th>\n",
       "      <th>#WordsAbstract</th>\n",
       "      <th>#WordsExtract</th>\n",
       "      <th>AbsCompressionRatio</th>\n",
       "      <th>ExtCompressionRatio</th>\n",
       "      <th>OriginalDebateFileName</th>\n",
       "    </tr>\n",
       "  </thead>\n",
       "  <tbody>\n",
       "    <tr>\n",
       "      <th>0</th>\n",
       "      <td>German Chancellor Angela Merkel demanded on Th...</td>\n",
       "      <td>O’Donnell and Baker ’13 [JOHN O'DONNELL AND LU...</td>\n",
       "      <td>Merkel demanded the U S strike a \"no-spying\" a...</td>\n",
       "      <td>Text: The United States should offer to accede...</td>\n",
       "      <td>3155</td>\n",
       "      <td>132</td>\n",
       "      <td>1416</td>\n",
       "      <td>506</td>\n",
       "      <td>22</td>\n",
       "      <td>231</td>\n",
       "      <td>0.043478</td>\n",
       "      <td>0.456522</td>\n",
       "      <td>Bulk Data Collection Negative - JDI 2015.html5</td>\n",
       "    </tr>\n",
       "    <tr>\n",
       "      <th>1</th>\n",
       "      <td>Judge Leon last week questioned the effectiven...</td>\n",
       "      <td>Cohen ’13 [ANDREW COHEN, DEC 27, 2013, The Atl...</td>\n",
       "      <td>Pauley asserted The effectiveness of bulk tele...</td>\n",
       "      <td>Unique link- judicial deference specifically o...</td>\n",
       "      <td>367</td>\n",
       "      <td>132</td>\n",
       "      <td>100</td>\n",
       "      <td>52</td>\n",
       "      <td>22</td>\n",
       "      <td>13</td>\n",
       "      <td>0.423077</td>\n",
       "      <td>0.250000</td>\n",
       "      <td>Bulk Data Collection Negative - JDI 2015.html5</td>\n",
       "    </tr>\n",
       "    <tr>\n",
       "      <th>2</th>\n",
       "      <td>New York Times July 25th 2013\\n(POLITICS Rober...</td>\n",
       "      <td>Rosenthal 6/12/15\\n(“Government's Secret Surve...</td>\n",
       "      <td>The recent leaks about government spying progr...</td>\n",
       "      <td>Issues of national surveillance are a key issu...</td>\n",
       "      <td>10386</td>\n",
       "      <td>61</td>\n",
       "      <td>2223</td>\n",
       "      <td>1639</td>\n",
       "      <td>10</td>\n",
       "      <td>355</td>\n",
       "      <td>0.006101</td>\n",
       "      <td>0.216595</td>\n",
       "      <td>Bulk Data Collection Negative - JDI 2015.html5</td>\n",
       "    </tr>\n",
       "    <tr>\n",
       "      <th>3</th>\n",
       "      <td>Posner 2007\\n(“Terror in the Balance: Security...</td>\n",
       "      <td>New York Times July 25th 2013\\n(POLITICS Rober...</td>\n",
       "      <td>When national emergencies strike, the executiv...</td>\n",
       "      <td>Chief Justice Roberts ensures issues of nation...</td>\n",
       "      <td>1598</td>\n",
       "      <td>99</td>\n",
       "      <td>669</td>\n",
       "      <td>226</td>\n",
       "      <td>14</td>\n",
       "      <td>98</td>\n",
       "      <td>0.061947</td>\n",
       "      <td>0.433628</td>\n",
       "      <td>Bulk Data Collection Negative - JDI 2015.html5</td>\n",
       "    </tr>\n",
       "    <tr>\n",
       "      <th>4</th>\n",
       "      <td>Goitien April 17th 2015\\n(Appointing Democrati...</td>\n",
       "      <td>Posner 2007\\n(“Terror in the Balance: Security...</td>\n",
       "      <td>Chief Justice Roberts recently named two new j...</td>\n",
       "      <td>Courts empirically defer instances of national...</td>\n",
       "      <td>7696</td>\n",
       "      <td>56</td>\n",
       "      <td>1482</td>\n",
       "      <td>1201</td>\n",
       "      <td>7</td>\n",
       "      <td>238</td>\n",
       "      <td>0.005828</td>\n",
       "      <td>0.198168</td>\n",
       "      <td>Bulk Data Collection Negative - JDI 2015.html5</td>\n",
       "    </tr>\n",
       "  </tbody>\n",
       "</table>\n",
       "</div>"
      ],
      "text/plain": [
       "                                       Full-Document  \\\n",
       "0  German Chancellor Angela Merkel demanded on Th...   \n",
       "1  Judge Leon last week questioned the effectiven...   \n",
       "2  New York Times July 25th 2013\\n(POLITICS Rober...   \n",
       "3  Posner 2007\\n(“Terror in the Balance: Security...   \n",
       "4  Goitien April 17th 2015\\n(Appointing Democrati...   \n",
       "\n",
       "                                            Citation  \\\n",
       "0  O’Donnell and Baker ’13 [JOHN O'DONNELL AND LU...   \n",
       "1  Cohen ’13 [ANDREW COHEN, DEC 27, 2013, The Atl...   \n",
       "2  Rosenthal 6/12/15\\n(“Government's Secret Surve...   \n",
       "3  New York Times July 25th 2013\\n(POLITICS Rober...   \n",
       "4  Posner 2007\\n(“Terror in the Balance: Security...   \n",
       "\n",
       "                                             Extract  \\\n",
       "0  Merkel demanded the U S strike a \"no-spying\" a...   \n",
       "1  Pauley asserted The effectiveness of bulk tele...   \n",
       "2  The recent leaks about government spying progr...   \n",
       "3  When national emergencies strike, the executiv...   \n",
       "4  Chief Justice Roberts recently named two new j...   \n",
       "\n",
       "                                            Abstract  #CharsDocument  \\\n",
       "0  Text: The United States should offer to accede...            3155   \n",
       "1  Unique link- judicial deference specifically o...             367   \n",
       "2  Issues of national surveillance are a key issu...           10386   \n",
       "3  Chief Justice Roberts ensures issues of nation...            1598   \n",
       "4  Courts empirically defer instances of national...            7696   \n",
       "\n",
       "   #CharsAbstract  #CharsExtract  #WordsDocument  #WordsAbstract  \\\n",
       "0             132           1416             506              22   \n",
       "1             132            100              52              22   \n",
       "2              61           2223            1639              10   \n",
       "3              99            669             226              14   \n",
       "4              56           1482            1201               7   \n",
       "\n",
       "   #WordsExtract  AbsCompressionRatio  ExtCompressionRatio  \\\n",
       "0            231             0.043478             0.456522   \n",
       "1             13             0.423077             0.250000   \n",
       "2            355             0.006101             0.216595   \n",
       "3             98             0.061947             0.433628   \n",
       "4            238             0.005828             0.198168   \n",
       "\n",
       "                           OriginalDebateFileName  \n",
       "0  Bulk Data Collection Negative - JDI 2015.html5  \n",
       "1  Bulk Data Collection Negative - JDI 2015.html5  \n",
       "2  Bulk Data Collection Negative - JDI 2015.html5  \n",
       "3  Bulk Data Collection Negative - JDI 2015.html5  \n",
       "4  Bulk Data Collection Negative - JDI 2015.html5  "
      ]
     },
     "execution_count": 3,
     "metadata": {},
     "output_type": "execute_result"
    }
   ],
   "source": [
    "data = pd.read_csv('data/debateall.csv', encoding='utf-8')\n",
    "data['Full-Document'] = data['Full-Document'].str.replace(u\"\\u00B6\", \"\")\n",
    "data['Extract'] = data['Extract'].str.replace(u\"\\u00B6\", \"\")\n",
    "data.head()"
   ]
  },
  {
   "cell_type": "code",
   "execution_count": 4,
   "id": "b3f7fdde",
   "metadata": {},
   "outputs": [
    {
     "data": {
      "text/plain": [
       "'German Chancellor Angela Merkel demanded on Thursday that the United States strike a \"no-spying\" agreement with Berlin and Paris by the end of the year, saying alleged espionage against two of Washington\\'s closest EU allies had to be stopped. Speaking after talks with EU leaders that were dominated by allegations that the U.S. National Security Agency had accessed tens of thousands of French phone records and monitored Merkel\\'s private mobile phone, the chancellor said she wanted action from President Barack Obama, not just apologetic words. Germany and France would seek a \"mutual understanding\" with the United States on cooperation between their intelligence agencies, and other EU member states could eventually take part. \"That means a framework for cooperation between the relevant (intelligence) services.Germany and France have taken the initiative and other member states will join,\" she said. In a statement issued after the first day of the summit, the EU\\'s 28 leaders said they supported the Franco-German plan. Merkel first raised the possibility of a \"no-spying\" agreement with Obama during a visit to Berlin in June this year, but nothing came of it. The latest revelations, part of the vast leaks made by former U.S. data analyst Edward Snowden, would appear to have renewed her determination for a pact. The United States has a \"no-spying\" deal with Britain, Australia, New Zealand and Canada, an alliance known as \"Five Eyes\" that was struck in the aftermath of World War Two. But there has traditionally been a reluctance to make similar arrangements with other allies, despite the close relations that the United States and Germany now enjoy. Merkel said an accord with Washington was long overdue, given the shared experiences the countries face. \"We are in Afghanistan together. Our soldiers experience life threatening situations. They sometimes die in the same battles,\" she said. \"The friendship and partnership between the European member states, includingGermany, and the United States is not a one-way street. We depend on it. But there are good reasons that the United States also needs friends in the world.\" COLLECTIVE ANGER As EU leaders arrived for the two-day summit there was near-universal condemnation of the alleged activities by the NSA, particularly the monitoring of Merkel\\'s mobile phone, a sensitive issue for a woman who grew up in East Germany, living under the Stasi police force and its feared eavesdropping. Some senior German officials, and the German president of the European Parliament, have called for talks between the EU and United States on a free-trade agreement, which began in July, to be suspended because of the spying allegations. Merkel, whose country is one of the world\\'s leading exporters and stands to gain from any trade deal with Washington, said that was not the right path to take, saying the best way forward was to rebuild trust. The series of Snowden-based leaks over the past three months have left Washington at odds with a host of important allies, from Brazil to Saudi Arabia, and there are few signs that the revelations are going to dry up anytime soon.'"
      ]
     },
     "execution_count": 4,
     "metadata": {},
     "output_type": "execute_result"
    }
   ],
   "source": [
    "data.loc[0, 'Full-Document']"
   ]
  },
  {
   "cell_type": "code",
   "execution_count": 5,
   "id": "604ed28b",
   "metadata": {},
   "outputs": [
    {
     "data": {
      "text/plain": [
       "'Merkel demanded the U S strike a \"no-spying\" agreement with Berlin and Paris saying alleged espionage against EU allies had to be stopped the chancellor said she wanted action from Obama Germany and France would seek a \"mutual understanding\" with the United States on cooperation between their intelligence agencies, and other EU member states could eventually take part the EU\\'s 28 leaders said they supported the Franco-German plan Merkel raised the with Obama but nothing came of it The United States has a \"no-spying\" deal with Britain, Australia, New Zealand and Canada, an alliance known as \"Five Eyes\" there has traditionally been a reluctance to make similar arrangements with other allies Merkel said an accord with Washington was long overdue The friendship and partnership between the European member states, includingGermany, and the United States is not a one-way street. We depend on it the United States also needs friends in the w As EU leaders arrived for the two-day summit there was near-universal condemnation of the alleged activities by the NSA senior officials have called for talks between the EU and United States on a free-trade agreement to be suspended because of the spying allegations The series of Snowden-based leak have left Washington at odds with a host of important allies, from Brazil to Saudi Arabia, and there are few signs that the revelations are going to dry up anytime soon'"
      ]
     },
     "execution_count": 5,
     "metadata": {},
     "output_type": "execute_result"
    }
   ],
   "source": [
    "data.loc[0, 'Extract']"
   ]
  },
  {
   "cell_type": "markdown",
   "id": "9d8a4e86",
   "metadata": {},
   "source": [
    "### Learning how to generate embeddings using BERT"
   ]
  },
  {
   "cell_type": "code",
   "execution_count": 6,
   "id": "26e8a66c",
   "metadata": {},
   "outputs": [],
   "source": [
    "# !pip install simpletransformers"
   ]
  },
  {
   "cell_type": "code",
   "execution_count": 7,
   "id": "7e08b1a8",
   "metadata": {},
   "outputs": [],
   "source": [
    "from simpletransformers.language_representation import RepresentationModel"
   ]
  },
  {
   "cell_type": "code",
   "execution_count": 8,
   "id": "3cd5d292",
   "metadata": {},
   "outputs": [
    {
     "data": {
      "text/plain": [
       "0    German Chancellor Angela Merkel demanded on Th...\n",
       "1    Judge Leon last week questioned the effectiven...\n",
       "2    New York Times July 25th 2013\\n(POLITICS Rober...\n",
       "3    Posner 2007\\n(“Terror in the Balance: Security...\n",
       "4    Goitien April 17th 2015\\n(Appointing Democrati...\n",
       "Name: Full-Document, dtype: object"
      ]
     },
     "execution_count": 8,
     "metadata": {},
     "output_type": "execute_result"
    }
   ],
   "source": [
    "sentences = data['Full-Document'][: 1000]\n",
    "sentences.head()"
   ]
  },
  {
   "cell_type": "code",
   "execution_count": 9,
   "metadata": {},
   "outputs": [],
   "source": [
    "# import re\n"
   ]
  },
  {
   "cell_type": "code",
   "execution_count": 10,
   "id": "55fb5fc0",
   "metadata": {},
   "outputs": [
    {
     "data": {
      "text/plain": [
       "0    Merkel demanded the U S strike a \"no-spying\" a...\n",
       "1    Pauley asserted The effectiveness of bulk tele...\n",
       "2    The recent leaks about government spying progr...\n",
       "3    When national emergencies strike, the executiv...\n",
       "4    Chief Justice Roberts recently named two new j...\n",
       "Name: Extract, dtype: object"
      ]
     },
     "execution_count": 10,
     "metadata": {},
     "output_type": "execute_result"
    }
   ],
   "source": [
    "summaries = data['Extract'][: 1000]\n",
    "summaries.head()"
   ]
  },
  {
   "cell_type": "markdown",
   "id": "40b7dd7f",
   "metadata": {},
   "source": [
    "### Defining a model to use the bert embeddings and set use_cuda = True to use GPU"
   ]
  },
  {
   "cell_type": "code",
   "execution_count": 11,
   "id": "86af05c5",
   "metadata": {},
   "outputs": [
    {
     "name": "stderr",
     "output_type": "stream",
     "text": [
      "Some weights of the model checkpoint at bert-base-uncased were not used when initializing BertForTextRepresentation: ['cls.predictions.transform.LayerNorm.weight', 'cls.predictions.transform.dense.bias', 'cls.predictions.transform.dense.weight', 'cls.predictions.bias', 'cls.seq_relationship.weight', 'cls.predictions.transform.LayerNorm.bias', 'cls.seq_relationship.bias', 'cls.predictions.decoder.weight']\n",
      "- This IS expected if you are initializing BertForTextRepresentation from the checkpoint of a model trained on another task or with another architecture (e.g. initializing a BertForSequenceClassification model from a BertForPreTraining model).\n",
      "- This IS NOT expected if you are initializing BertForTextRepresentation from the checkpoint of a model that you expect to be exactly identical (initializing a BertForSequenceClassification model from a BertForSequenceClassification model).\n"
     ]
    }
   ],
   "source": [
    "# sentences = ['Machine Learning and Deep Learning are part of AI', 'Data Science will excel in future']\n",
    "model = RepresentationModel(\n",
    "        model_type='bert',\n",
    "        model_name='bert-base-uncased',\n",
    "        use_cuda=True\n",
    ")"
   ]
  },
  {
   "cell_type": "markdown",
   "id": "6aeff440",
   "metadata": {},
   "source": [
    "### Running K-Means clustering on the embeddings and finding the optimal K"
   ]
  },
  {
   "cell_type": "code",
   "execution_count": 24,
   "id": "6ce28c13",
   "metadata": {},
   "outputs": [],
   "source": [
    "from collections import defaultdict\n",
    "\n",
    "def findSummary(kMeans, word_vectors, document):\n",
    "    preds = kMeans.labels_\n",
    "    centers = kMeans.cluster_centers_\n",
    "    clusters = defaultdict(list)\n",
    "    for i in range(len(word_vectors)):\n",
    "        clusters[preds[i]].append([centers[preds[i]], i, word_vectors[i]])\n",
    "    cluster_repr = {}\n",
    "    for center, points in clusters.items():\n",
    "        dists = []\n",
    "        for i, point in enumerate(points):\n",
    "            dists.append([np.linalg.norm(center - point[2]), i, point[2]])\n",
    "        dists.sort(key=lambda x: x[0])\n",
    "        cluster_repr[center] = [dists[0][1], dists[0][2]]\n",
    "    summary = []\n",
    "    for _, point in cluster_repr.items():\n",
    "        summary.append([point[0], document[point[0]]])\n",
    "    summary.sort()\n",
    "    return [sentence[1] for sentence in summary]"
   ]
  },
  {
   "cell_type": "code",
   "execution_count": 37,
   "id": "cf80ac20",
   "metadata": {},
   "outputs": [
    {
     "name": "stdout",
     "output_type": "stream",
     "text": [
      "Running for i = 1 document\n",
      "(19, 768)\n",
      "(19, 768) (19,) [0 0 0 0 0 0 0 0 0 0 1 0 0 0 1 0 0 0 0] 0.4048729\n",
      "(19, 768) (19,) [1 1 1 0 0 1 1 1 1 0 2 1 0 1 2 0 1 0 1] 0.17226088\n",
      "(19, 768) (19,) [0 1 0 1 1 0 0 0 0 1 2 3 1 0 2 1 0 1 0] 0.15841855\n",
      "(19, 768) (19,) [0 1 0 1 1 0 0 0 0 1 2 3 1 0 4 1 0 1 0] 0.13263188\n",
      "(19, 768) (19,) [1 1 0 3 1 0 0 0 0 3 5 4 1 0 2 3 1 3 1] 0.07901874\n",
      "(19, 768) (19,) [0 0 0 3 3 0 0 0 0 3 2 4 3 1 6 5 0 5 0] 0.10174414\n",
      "(19, 768) (19,) [1 1 0 4 1 1 1 6 1 4 2 5 3 0 7 4 1 4 1] 0.11002001\n",
      "(19, 768) (19,) [1 1 4 5 1 1 1 8 4 5 6 3 0 7 2 5 1 5 1] 0.09663949\n",
      "(19, 768) (19,) [0 0 6 2 0 0 9 7 0 2 4 3 5 8 1 2 0 2 0] 0.07734692\n",
      "Best k: 2, Length of selected summary: 2\n",
      "Running for i = 2 document\n",
      "(1, 768)\n",
      "Running for i = 3 document\n",
      "(70, 768)\n",
      "(70, 768) (70,) [1 1 1 0 1 1 1 0 0 1 1 1 1 0 1 0 0 1 1 1 1 1 1 1 1 0 1 1 1 1 1 1 1 0 0 1 0\n",
      " 0 1 1 1 0 1 1 1 0 1 0 0 0 0 0 0 1 1 1 1 0 1 1 1 1 0 0 0 1 1 1 1 1] 0.45677018\n",
      "(70, 768) (70,) [2 1 1 2 1 1 1 0 0 1 1 1 1 0 2 0 2 1 1 1 1 1 1 1 1 2 1 1 1 1 1 1 1 0 2 2 2\n",
      " 2 1 1 1 0 1 1 1 0 1 0 0 2 0 0 2 1 1 1 1 2 1 1 1 1 0 2 0 1 1 1 1 1] 0.35553116\n",
      "(70, 768) (70,) [3 3 3 1 0 3 0 2 2 3 0 0 0 2 1 2 1 0 0 3 0 0 0 0 0 1 0 0 3 0 3 0 0 2 1 3 1\n",
      " 1 0 0 0 2 3 0 0 2 3 2 2 1 2 2 1 0 0 0 0 1 0 0 0 0 2 1 2 3 0 0 0 0] 0.18351096\n",
      "(70, 768) (70,) [2 1 2 3 1 4 1 0 0 2 4 1 1 0 2 3 2 1 1 4 1 1 1 4 4 3 1 4 1 1 4 4 1 0 3 2 2\n",
      " 3 1 1 1 0 2 4 1 0 4 0 0 3 0 0 3 1 1 1 4 2 4 4 1 4 0 2 0 4 1 1 1 1] 0.118187234\n",
      "(70, 768) (70,) [2 3 3 5 4 0 4 1 1 3 0 4 4 1 5 1 5 4 4 3 4 4 4 0 0 5 4 0 3 4 3 0 4 1 5 3 5\n",
      " 5 4 4 4 1 3 0 4 1 2 1 1 5 1 1 5 4 4 4 0 5 0 0 4 0 1 5 1 0 4 4 4 4] 0.12924425\n",
      "(70, 768) (70,) [4 4 4 1 2 0 2 3 3 4 0 2 2 3 1 6 1 2 2 4 2 2 2 0 0 6 2 0 4 2 4 0 2 6 6 4 1\n",
      " 6 2 2 2 3 4 0 2 3 0 3 3 6 6 3 5 2 2 2 2 1 0 0 2 0 3 1 3 0 2 2 2 2] 0.111239076\n",
      "(70, 768) (70,) [5 5 5 1 6 0 0 4 2 5 0 6 6 4 1 7 1 3 6 5 6 6 3 3 0 7 3 0 5 3 5 3 3 4 7 5 1\n",
      " 1 6 6 6 2 5 0 6 4 0 2 2 7 4 2 7 6 3 6 0 1 0 0 6 0 2 1 2 0 6 3 3 3] 0.07283538\n",
      "(70, 768) (70,) [5 4 4 3 2 7 2 6 6 4 7 2 2 6 3 1 3 7 2 4 2 2 2 7 7 8 2 7 4 7 4 7 2 1 8 4 3\n",
      " 8 2 2 2 6 4 7 2 6 0 6 6 8 6 6 8 2 2 2 7 3 7 7 2 7 6 3 6 0 2 2 2 2] 0.09448726\n",
      "(70, 768) (70,) [6 3 3 7 1 2 2 0 8 3 2 1 1 0 4 5 7 1 1 3 1 1 1 2 2 7 1 2 3 1 3 2 1 0 7 3 4\n",
      " 7 1 1 1 8 3 2 1 8 2 0 8 7 5 8 9 1 1 1 1 7 2 2 1 2 8 7 8 2 1 1 1 1] 0.09501674\n",
      "Best k: 2, Length of selected summary: 2\n",
      "Running for i = 4 document\n",
      "(11, 768)\n",
      "(11, 768) (11,) [0 0 0 0 0 0 0 0 0 1 1] 0.292037\n",
      "(11, 768) (11,) [2 1 1 1 1 1 1 1 1 0 0] 0.20545353\n",
      "(11, 768) (11,) [3 2 0 0 2 2 2 0 2 1 1] 0.13489234\n",
      "(11, 768) (11,) [2 0 3 3 0 0 0 3 0 4 1] 0.10619339\n",
      "(11, 768) (11,) [3 4 2 2 0 0 0 2 4 5 1] 0.102267615\n",
      "(11, 768) (11,) [3 6 2 2 0 0 0 2 4 5 1] 0.09308271\n",
      "(11, 768) (11,) [4 5 7 2 0 0 0 2 3 6 1] 0.095922686\n",
      "(11, 768) (11,) [4 5 7 2 0 8 0 2 3 6 1] 0.0564098\n",
      "(11, 768) (11,) [4 5 7 2 0 8 0 9 3 6 1] 0.020666398\n",
      "Best k: 2, Length of selected summary: 2\n",
      "Running for i = 5 document\n",
      "(45, 768)\n",
      "(45, 768) (45,) [1 1 0 0 0 0 0 1 1 1 1 1 1 0 1 1 1 1 1 1 1 1 1 1 1 1 1 1 1 0 1 1 1 1 1 1 1\n",
      " 1 1 1 1 1 1 1 1] 0.44324806\n",
      "(45, 768) (45,) [0 1 2 2 2 0 0 1 1 1 0 1 1 0 1 0 1 1 0 1 1 1 1 1 1 1 1 1 1 0 1 1 1 1 1 1 1\n",
      " 1 1 1 1 1 0 1 1] 0.29570624\n",
      "(45, 768) (45,) [2 0 1 1 1 3 3 0 2 0 2 2 0 3 0 2 0 0 2 0 0 0 0 2 0 0 0 0 0 3 0 0 2 0 0 2 0\n",
      " 0 0 0 0 0 2 0 0] 0.18691318\n",
      "(45, 768) (45,) [4 3 2 2 2 1 1 0 4 3 4 4 4 1 0 4 3 3 4 0 3 0 3 4 0 0 3 0 0 1 3 0 4 3 0 4 3\n",
      " 3 0 3 3 3 4 3 0] 0.11641039\n",
      "(45, 768) (45,) [0 5 1 1 1 2 2 3 0 3 2 0 3 2 3 0 4 4 0 3 4 3 3 0 3 3 3 3 3 2 3 3 0 3 3 0 4\n",
      " 4 3 4 4 4 0 4 3] 0.115985125\n",
      "(45, 768) (45,) [5 0 2 2 2 3 3 1 5 4 5 5 1 3 1 5 6 6 5 1 4 1 4 1 1 1 4 1 1 3 4 1 5 4 1 5 6\n",
      " 6 1 6 6 4 5 4 4] 0.09900987\n",
      "(45, 768) (45,) [4 5 3 3 3 1 1 2 7 0 1 2 6 1 6 2 6 6 7 2 0 2 0 7 2 2 0 2 2 1 5 2 7 0 2 7 6\n",
      " 6 2 6 6 0 7 5 2] 0.10009708\n",
      "(45, 768) (45,) [3 7 6 1 1 2 2 5 4 0 2 4 0 2 5 8 0 0 4 5 0 5 5 4 5 5 0 5 5 2 0 5 4 0 5 4 0\n",
      " 0 5 0 0 0 4 0 5] 0.116228074\n",
      "(45, 768) (45,) [6 9 1 4 4 2 2 0 8 0 3 8 0 2 0 7 5 5 8 0 5 0 0 8 0 0 0 0 0 3 0 0 8 0 0 8 5\n",
      " 5 0 5 5 5 8 5 0] 0.106379814\n",
      "Best k: 2, Length of selected summary: 2\n"
     ]
    }
   ],
   "source": [
    "from sklearn.cluster import KMeans\n",
    "from scipy.spatial.distance import cdist\n",
    "import re\n",
    "from sklearn.metrics import hamming_loss, accuracy_score, silhouette_score\n",
    "import torch.nn as nn\n",
    "\n",
    "predicted_summaries = open('predictions.txt', 'w')\n",
    "for i in range(1000):\n",
    "    print(f'\\rRunning for i = {i + 1} document', sep='')\n",
    "    distortions = []\n",
    "    inertias = []\n",
    "    mapping1 = {}\n",
    "    mapping2 = {}\n",
    "    document = re.sub('(?<!\\w\\.\\w.)(?<![A-Z][a-z]\\.)(?<=\\.|\\?)\\s', '\\n', sentences[i]).split('\\n')\n",
    "    word_vectors = model.encode_sentences(document, combine_strategy='mean')\n",
    "    # nn.LSTM(1, 82, )\n",
    "    print(word_vectors.shape)\n",
    "    silhouette_scores = []\n",
    "    for j in range(2, min(11, len(word_vectors))):\n",
    "        kMeans = KMeans(n_clusters=j, random_state=42).fit(word_vectors)\n",
    "        print(word_vectors.shape, kMeans.labels_.shape, kMeans.labels_, silhouette_score(word_vectors, kMeans.labels_))\n",
    "        silhouette_scores.append(silhouette_score(word_vectors, kMeans.labels_))\n",
    "        # distortions.append(sum(np.min(cdist(word_vectors, kMeans.cluster_centers_,\n",
    "        #                                     'euclidean'), axis=1)) / word_vectors.shape[0])\n",
    "        # inertias.append(kMeans.inertia_)\n",
    "        # mapping1[j] = sum(np.min(cdist(word_vectors, kMeans.cluster_centers_,\n",
    "        #                             'euclidean'), axis=1)) / word_vectors.shape[0]\n",
    "        # mapping2[j] = kMeans.inertia_\n",
    "    if silhouette_scores != []:\n",
    "        # best_k = sorted(mapping1.items(), key=lambda x: x[1])[0]\n",
    "        best_k = np.argmax(silhouette_scores) + 2\n",
    "        kMeansModel = KMeans(n_clusters=best_k, random_state=42).fit(word_vectors)\n",
    "        # kMeansModel = KMeans(n_clusters=5, random_state=42).fit(word_vectors)\n",
    "        print(f'Best k: {best_k}, Length of selected summary: {len(findSummary(kMeansModel, word_vectors, document))}')\n",
    "    # predicted_summaries.write(str(findSummary(kMeansModel, word_vectors, document)))\n",
    "    # predicted_summaries.write('\\n')\n",
    "    # predicted_summaries.write(str(summaries[i]))\n",
    "    # predicted_summaries.write('\\n')\n",
    "    # predicted_summaries.write('\\n')\n",
    "    if i == 4:\n",
    "        break\n",
    "predicted_summaries.close()\n",
    "    # print(f'Predicted Summary: {findSummary(kMeansModel, word_vectors, document)}')\n",
    "    # print(f'Actual Summary: {summaries[i]}')"
   ]
  },
  {
   "cell_type": "code",
   "execution_count": null,
   "id": "376a020b",
   "metadata": {},
   "outputs": [],
   "source": []
  }
 ],
 "metadata": {
  "kernelspec": {
   "display_name": "Python 3",
   "language": "python",
   "name": "python3"
  },
  "language_info": {
   "codemirror_mode": {
    "name": "ipython",
    "version": 3
   },
   "file_extension": ".py",
   "mimetype": "text/x-python",
   "name": "python",
   "nbconvert_exporter": "python",
   "pygments_lexer": "ipython3",
   "version": "3.6.12"
  }
 },
 "nbformat": 4,
 "nbformat_minor": 5
}
